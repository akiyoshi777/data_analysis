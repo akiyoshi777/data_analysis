{
 "cells": [
  {
   "cell_type": "markdown",
   "metadata": {},
   "source": [
    "loc, ilocの違い<br>\n",
    "ilocは位置番号でデータを指定できるがラベル名では指定できない．<br>\n",
    "locはラベル名で指定できるが，位置番号では指定できない"
   ]
  },
  {
   "cell_type": "code",
   "execution_count": 1,
   "metadata": {},
   "outputs": [
    {
     "name": "stdout",
     "output_type": "stream",
     "text": [
      "      A  B  C\n",
      "row1  1  4  7\n",
      "row2  2  5  8\n",
      "row3  3  6  9\n"
     ]
    }
   ],
   "source": [
    "import pandas as pd\n",
    "\n",
    "data = {\n",
    "    'A': [1, 2, 3],\n",
    "    'B': [4, 5, 6],\n",
    "    'C': [7, 8, 9]\n",
    "}\n",
    "\n",
    "df = pd.DataFrame(data, index=['row1', 'row2', 'row3'])\n",
    "print(df)"
   ]
  },
  {
   "cell_type": "code",
   "execution_count": 3,
   "metadata": {},
   "outputs": [
    {
     "name": "stdout",
     "output_type": "stream",
     "text": [
      "1\n",
      "      A  B  C\n",
      "row1  1  4  7\n",
      "row3  3  6  9\n"
     ]
    }
   ],
   "source": [
    "# ilocの使用法\n",
    "print(df.iloc[0,0])\n",
    "print(df.iloc[[0,2],:])"
   ]
  },
  {
   "cell_type": "code",
   "execution_count": 4,
   "metadata": {},
   "outputs": [
    {
     "name": "stdout",
     "output_type": "stream",
     "text": [
      "1\n",
      "      A  B  C\n",
      "row1  1  4  7\n",
      "row3  3  6  9\n"
     ]
    }
   ],
   "source": [
    "# locの使用法\n",
    "print(df.loc['row1', 'A'])\n",
    "print(df.loc[['row1', 'row3'], :])"
   ]
  },
  {
   "cell_type": "markdown",
   "metadata": {},
   "source": [
    "よく，locでdf.loc[0]のように数字を指定するときが大いが，これはindexを指定していないデータフレーム型が多いため，ラベル名が数字なのだ"
   ]
  },
  {
   "cell_type": "code",
   "execution_count": null,
   "metadata": {},
   "outputs": [],
   "source": []
  }
 ],
 "metadata": {
  "kernelspec": {
   "display_name": "Python 3",
   "language": "python",
   "name": "python3"
  },
  "language_info": {
   "codemirror_mode": {
    "name": "ipython",
    "version": 3
   },
   "file_extension": ".py",
   "mimetype": "text/x-python",
   "name": "python",
   "nbconvert_exporter": "python",
   "pygments_lexer": "ipython3",
   "version": "3.9.6"
  },
  "orig_nbformat": 4
 },
 "nbformat": 4,
 "nbformat_minor": 2
}
