{
 "cells": [
  {
   "cell_type": "markdown",
   "metadata": {},
   "source": [
    "<a id=\"section1\"></a>"
   ]
  },
  {
   "cell_type": "markdown",
   "metadata": {},
   "source": [
    "血液検査データを用いて肝臓の疾患リスクの有無を判定するモデルを作成する"
   ]
  },
  {
   "cell_type": "code",
   "execution_count": 236,
   "metadata": {},
   "outputs": [],
   "source": [
    "import pandas as pd # データ分析ライブラリ\n",
    "import numpy as np # 三角関数，対数関数，行列などの数学的な計算を行うライブラリ\n",
    "import seaborn as sns # グラフ可視化ライブラリ\n",
    "import matplotlib.pyplot as plt # グラフ可視化ライブラリ\n",
    "from pathlib import Path # ファイルパス操作ライブラリ"
   ]
  },
  {
   "cell_type": "code",
   "execution_count": 237,
   "metadata": {},
   "outputs": [],
   "source": [
    "DATASET_PATH = Path('/Users/akiyoshi-n/Documents/data_analysis/data_analysis/data')"
   ]
  },
  {
   "cell_type": "code",
   "execution_count": 238,
   "metadata": {},
   "outputs": [
    {
     "name": "stdout",
     "output_type": "stream",
     "text": [
      "   Age  Gender  T_Bil  D_Bil  ALP  ALT_GPT  AST_GOT   TP  Alb  AG_ratio  \\\n",
      "0   65  Female    1.0    0.2  187       16       18  6.8  3.3      0.92   \n",
      "1   62    Male   11.2    5.6  699       64      100  7.5  3.2      0.73   \n",
      "2   62    Male    7.6    4.2  490       60       68  7.0  3.3      0.87   \n",
      "3   58    Male    1.3    0.5  182       14       20  6.8  3.4      0.98   \n",
      "4   72    Male    4.2    2.1  195       27       59  7.3  2.4      0.48   \n",
      "\n",
      "   disease  \n",
      "0        1  \n",
      "1        1  \n",
      "2        1  \n",
      "3        1  \n",
      "4        1  \n"
     ]
    }
   ],
   "source": [
    "# disease: 0: 無，1: 有\n",
    "# ここで一回データを変数に入れると以後楽になる\n",
    "df = pd.read_excel(f'{DATASET_PATH}/disease_risk_prediction_data.xlsx')\n",
    "print(df.head(5))"
   ]
  },
  {
   "cell_type": "markdown",
   "metadata": {},
   "source": [
    "データの種類(4種類)<br>\n",
    "量的データ<br>\n",
    "間隔尺度：データの差分に意味がある(西暦，温度)<br>\n",
    "比例尺度：データの比率に意味がある(金額，個数)<br>\n",
    "質的データ<br>\n",
    "名義尺度：性別，名前，id<br>\n",
    "順序尺度：順位，優劣を表す番号\n"
   ]
  },
  {
   "cell_type": "code",
   "execution_count": 239,
   "metadata": {},
   "outputs": [
    {
     "name": "stdout",
     "output_type": "stream",
     "text": [
      "(800, 11)\n",
      "<class 'pandas.core.frame.DataFrame'>\n",
      "RangeIndex: 800 entries, 0 to 799\n",
      "Data columns (total 11 columns):\n",
      " #   Column    Non-Null Count  Dtype  \n",
      "---  ------    --------------  -----  \n",
      " 0   Age       800 non-null    int64  \n",
      " 1   Gender    800 non-null    object \n",
      " 2   T_Bil     800 non-null    float64\n",
      " 3   D_Bil     800 non-null    float64\n",
      " 4   ALP       800 non-null    int64  \n",
      " 5   ALT_GPT   800 non-null    int64  \n",
      " 6   AST_GOT   800 non-null    int64  \n",
      " 7   TP        800 non-null    float64\n",
      " 8   Alb       800 non-null    float64\n",
      " 9   AG_ratio  796 non-null    float64\n",
      " 10  disease   800 non-null    int64  \n",
      "dtypes: float64(5), int64(5), object(1)\n",
      "memory usage: 68.9+ KB\n",
      "None\n"
     ]
    }
   ],
   "source": [
    "print(df.shape)\n",
    "print(df.info())"
   ]
  },
  {
   "cell_type": "code",
   "execution_count": 240,
   "metadata": {},
   "outputs": [
    {
     "data": {
      "text/plain": [
       "Age         0\n",
       "Gender      0\n",
       "T_Bil       0\n",
       "D_Bil       0\n",
       "ALP         0\n",
       "ALT_GPT     0\n",
       "AST_GOT     0\n",
       "TP          0\n",
       "Alb         0\n",
       "AG_ratio    4\n",
       "disease     0\n",
       "dtype: int64"
      ]
     },
     "execution_count": 240,
     "metadata": {},
     "output_type": "execute_result"
    }
   ],
   "source": [
    "df.isnull().sum()\n",
    "# AG_ratioに欠損値がある"
   ]
  },
  {
   "cell_type": "code",
   "execution_count": 241,
   "metadata": {},
   "outputs": [
    {
     "data": {
      "text/html": [
       "<div>\n",
       "<style scoped>\n",
       "    .dataframe tbody tr th:only-of-type {\n",
       "        vertical-align: middle;\n",
       "    }\n",
       "\n",
       "    .dataframe tbody tr th {\n",
       "        vertical-align: top;\n",
       "    }\n",
       "\n",
       "    .dataframe thead th {\n",
       "        text-align: right;\n",
       "    }\n",
       "</style>\n",
       "<table border=\"1\" class=\"dataframe\">\n",
       "  <thead>\n",
       "    <tr style=\"text-align: right;\">\n",
       "      <th></th>\n",
       "      <th>Age</th>\n",
       "      <th>Gender</th>\n",
       "      <th>T_Bil</th>\n",
       "      <th>D_Bil</th>\n",
       "      <th>ALP</th>\n",
       "      <th>ALT_GPT</th>\n",
       "      <th>AST_GOT</th>\n",
       "      <th>TP</th>\n",
       "      <th>Alb</th>\n",
       "      <th>AG_ratio</th>\n",
       "      <th>disease</th>\n",
       "    </tr>\n",
       "  </thead>\n",
       "  <tbody>\n",
       "    <tr>\n",
       "      <th>207</th>\n",
       "      <td>37</td>\n",
       "      <td>Male</td>\n",
       "      <td>1.1</td>\n",
       "      <td>0.3</td>\n",
       "      <td>147</td>\n",
       "      <td>27</td>\n",
       "      <td>46</td>\n",
       "      <td>5.0</td>\n",
       "      <td>2.5</td>\n",
       "      <td>NaN</td>\n",
       "      <td>1</td>\n",
       "    </tr>\n",
       "    <tr>\n",
       "      <th>239</th>\n",
       "      <td>65</td>\n",
       "      <td>Male</td>\n",
       "      <td>1.1</td>\n",
       "      <td>0.3</td>\n",
       "      <td>258</td>\n",
       "      <td>48</td>\n",
       "      <td>40</td>\n",
       "      <td>7.0</td>\n",
       "      <td>3.9</td>\n",
       "      <td>NaN</td>\n",
       "      <td>0</td>\n",
       "    </tr>\n",
       "    <tr>\n",
       "      <th>251</th>\n",
       "      <td>38</td>\n",
       "      <td>Male</td>\n",
       "      <td>0.8</td>\n",
       "      <td>0.2</td>\n",
       "      <td>247</td>\n",
       "      <td>55</td>\n",
       "      <td>92</td>\n",
       "      <td>7.4</td>\n",
       "      <td>4.3</td>\n",
       "      <td>NaN</td>\n",
       "      <td>0</td>\n",
       "    </tr>\n",
       "    <tr>\n",
       "      <th>310</th>\n",
       "      <td>12</td>\n",
       "      <td>Male</td>\n",
       "      <td>0.8</td>\n",
       "      <td>0.2</td>\n",
       "      <td>302</td>\n",
       "      <td>47</td>\n",
       "      <td>67</td>\n",
       "      <td>6.7</td>\n",
       "      <td>3.5</td>\n",
       "      <td>NaN</td>\n",
       "      <td>0</td>\n",
       "    </tr>\n",
       "  </tbody>\n",
       "</table>\n",
       "</div>"
      ],
      "text/plain": [
       "     Age Gender  T_Bil  D_Bil  ALP  ALT_GPT  AST_GOT   TP  Alb  AG_ratio  \\\n",
       "207   37   Male    1.1    0.3  147       27       46  5.0  2.5       NaN   \n",
       "239   65   Male    1.1    0.3  258       48       40  7.0  3.9       NaN   \n",
       "251   38   Male    0.8    0.2  247       55       92  7.4  4.3       NaN   \n",
       "310   12   Male    0.8    0.2  302       47       67  6.7  3.5       NaN   \n",
       "\n",
       "     disease  \n",
       "207        1  \n",
       "239        0  \n",
       "251        0  \n",
       "310        0  "
      ]
     },
     "execution_count": 241,
     "metadata": {},
     "output_type": "execute_result"
    }
   ],
   "source": [
    "# .any(axis=1)で一行ごとにTrueがあるかどうかを判定\n",
    "df.isnull().any(axis=1) # True, FalseのSeriesが返ってくる\n",
    "df[df.isnull().any(axis=1)] # Trueの行を抽出\n",
    "# NaNはNot a Numberの略で，数値ではないことを示す．"
   ]
  },
  {
   "cell_type": "code",
   "execution_count": 242,
   "metadata": {},
   "outputs": [],
   "source": [
    "# 欠損値への対応：削除か値の代入\n",
    "# 削除はdropna()，値の代入はfillna()\n",
    "# 今回は代入．AG_ratioが他の変数の値から計算できる\n",
    "# AG_ratio = Alb / (TP - Alb)\n",
    "df['AG_ratio'].fillna(df['Alb'] / (df['TP'] - df['Alb']), inplace=True) # inplace=Trueで元データを置き換え"
   ]
  },
  {
   "cell_type": "code",
   "execution_count": 243,
   "metadata": {},
   "outputs": [
    {
     "data": {
      "text/plain": [
       "Age         0\n",
       "Gender      0\n",
       "T_Bil       0\n",
       "D_Bil       0\n",
       "ALP         0\n",
       "ALT_GPT     0\n",
       "AST_GOT     0\n",
       "TP          0\n",
       "Alb         0\n",
       "AG_ratio    0\n",
       "disease     0\n",
       "dtype: int64"
      ]
     },
     "execution_count": 243,
     "metadata": {},
     "output_type": "execute_result"
    }
   ],
   "source": [
    "# 欠損値がなくなったか確認\n",
    "df.isnull().sum()"
   ]
  },
  {
   "cell_type": "code",
   "execution_count": 244,
   "metadata": {},
   "outputs": [
    {
     "data": {
      "text/html": [
       "<div>\n",
       "<style scoped>\n",
       "    .dataframe tbody tr th:only-of-type {\n",
       "        vertical-align: middle;\n",
       "    }\n",
       "\n",
       "    .dataframe tbody tr th {\n",
       "        vertical-align: top;\n",
       "    }\n",
       "\n",
       "    .dataframe thead th {\n",
       "        text-align: right;\n",
       "    }\n",
       "</style>\n",
       "<table border=\"1\" class=\"dataframe\">\n",
       "  <thead>\n",
       "    <tr style=\"text-align: right;\">\n",
       "      <th></th>\n",
       "      <th>Age</th>\n",
       "      <th>Gender</th>\n",
       "      <th>T_Bil</th>\n",
       "      <th>D_Bil</th>\n",
       "      <th>ALP</th>\n",
       "      <th>ALT_GPT</th>\n",
       "      <th>AST_GOT</th>\n",
       "      <th>TP</th>\n",
       "      <th>Alb</th>\n",
       "      <th>AG_ratio</th>\n",
       "      <th>disease</th>\n",
       "    </tr>\n",
       "  </thead>\n",
       "  <tbody>\n",
       "    <tr>\n",
       "      <th>207</th>\n",
       "      <td>37</td>\n",
       "      <td>Male</td>\n",
       "      <td>1.1</td>\n",
       "      <td>0.3</td>\n",
       "      <td>147</td>\n",
       "      <td>27</td>\n",
       "      <td>46</td>\n",
       "      <td>5.0</td>\n",
       "      <td>2.5</td>\n",
       "      <td>1.000000</td>\n",
       "      <td>1</td>\n",
       "    </tr>\n",
       "    <tr>\n",
       "      <th>239</th>\n",
       "      <td>65</td>\n",
       "      <td>Male</td>\n",
       "      <td>1.1</td>\n",
       "      <td>0.3</td>\n",
       "      <td>258</td>\n",
       "      <td>48</td>\n",
       "      <td>40</td>\n",
       "      <td>7.0</td>\n",
       "      <td>3.9</td>\n",
       "      <td>1.258065</td>\n",
       "      <td>0</td>\n",
       "    </tr>\n",
       "    <tr>\n",
       "      <th>251</th>\n",
       "      <td>38</td>\n",
       "      <td>Male</td>\n",
       "      <td>0.8</td>\n",
       "      <td>0.2</td>\n",
       "      <td>247</td>\n",
       "      <td>55</td>\n",
       "      <td>92</td>\n",
       "      <td>7.4</td>\n",
       "      <td>4.3</td>\n",
       "      <td>1.387097</td>\n",
       "      <td>0</td>\n",
       "    </tr>\n",
       "    <tr>\n",
       "      <th>310</th>\n",
       "      <td>12</td>\n",
       "      <td>Male</td>\n",
       "      <td>0.8</td>\n",
       "      <td>0.2</td>\n",
       "      <td>302</td>\n",
       "      <td>47</td>\n",
       "      <td>67</td>\n",
       "      <td>6.7</td>\n",
       "      <td>3.5</td>\n",
       "      <td>1.093750</td>\n",
       "      <td>0</td>\n",
       "    </tr>\n",
       "  </tbody>\n",
       "</table>\n",
       "</div>"
      ],
      "text/plain": [
       "     Age Gender  T_Bil  D_Bil  ALP  ALT_GPT  AST_GOT   TP  Alb  AG_ratio  \\\n",
       "207   37   Male    1.1    0.3  147       27       46  5.0  2.5  1.000000   \n",
       "239   65   Male    1.1    0.3  258       48       40  7.0  3.9  1.258065   \n",
       "251   38   Male    0.8    0.2  247       55       92  7.4  4.3  1.387097   \n",
       "310   12   Male    0.8    0.2  302       47       67  6.7  3.5  1.093750   \n",
       "\n",
       "     disease  \n",
       "207        1  \n",
       "239        0  \n",
       "251        0  \n",
       "310        0  "
      ]
     },
     "execution_count": 244,
     "metadata": {},
     "output_type": "execute_result"
    }
   ],
   "source": [
    "df.loc[[207,239,251,310], :]"
   ]
  },
  {
   "cell_type": "code",
   "execution_count": 245,
   "metadata": {},
   "outputs": [
    {
     "name": "stdout",
     "output_type": "stream",
     "text": [
      "10\n"
     ]
    },
    {
     "data": {
      "text/html": [
       "<div>\n",
       "<style scoped>\n",
       "    .dataframe tbody tr th:only-of-type {\n",
       "        vertical-align: middle;\n",
       "    }\n",
       "\n",
       "    .dataframe tbody tr th {\n",
       "        vertical-align: top;\n",
       "    }\n",
       "\n",
       "    .dataframe thead th {\n",
       "        text-align: right;\n",
       "    }\n",
       "</style>\n",
       "<table border=\"1\" class=\"dataframe\">\n",
       "  <thead>\n",
       "    <tr style=\"text-align: right;\">\n",
       "      <th></th>\n",
       "      <th>Age</th>\n",
       "      <th>Gender</th>\n",
       "      <th>T_Bil</th>\n",
       "      <th>D_Bil</th>\n",
       "      <th>ALP</th>\n",
       "      <th>ALT_GPT</th>\n",
       "      <th>AST_GOT</th>\n",
       "      <th>TP</th>\n",
       "      <th>Alb</th>\n",
       "      <th>AG_ratio</th>\n",
       "      <th>disease</th>\n",
       "    </tr>\n",
       "  </thead>\n",
       "  <tbody>\n",
       "    <tr>\n",
       "      <th>577</th>\n",
       "      <td>70</td>\n",
       "      <td>Female</td>\n",
       "      <td>0.7</td>\n",
       "      <td>0.2</td>\n",
       "      <td>237</td>\n",
       "      <td>18</td>\n",
       "      <td>28</td>\n",
       "      <td>5.8</td>\n",
       "      <td>2.5</td>\n",
       "      <td>0.76</td>\n",
       "      <td>0</td>\n",
       "    </tr>\n",
       "    <tr>\n",
       "      <th>594</th>\n",
       "      <td>50</td>\n",
       "      <td>Female</td>\n",
       "      <td>1.0</td>\n",
       "      <td>0.3</td>\n",
       "      <td>191</td>\n",
       "      <td>22</td>\n",
       "      <td>31</td>\n",
       "      <td>7.8</td>\n",
       "      <td>4.0</td>\n",
       "      <td>1.05</td>\n",
       "      <td>0</td>\n",
       "    </tr>\n",
       "    <tr>\n",
       "      <th>628</th>\n",
       "      <td>25</td>\n",
       "      <td>Male</td>\n",
       "      <td>0.6</td>\n",
       "      <td>0.1</td>\n",
       "      <td>183</td>\n",
       "      <td>91</td>\n",
       "      <td>53</td>\n",
       "      <td>5.5</td>\n",
       "      <td>2.3</td>\n",
       "      <td>0.72</td>\n",
       "      <td>0</td>\n",
       "    </tr>\n",
       "    <tr>\n",
       "      <th>631</th>\n",
       "      <td>50</td>\n",
       "      <td>Male</td>\n",
       "      <td>0.7</td>\n",
       "      <td>0.2</td>\n",
       "      <td>192</td>\n",
       "      <td>18</td>\n",
       "      <td>15</td>\n",
       "      <td>7.4</td>\n",
       "      <td>4.2</td>\n",
       "      <td>1.31</td>\n",
       "      <td>0</td>\n",
       "    </tr>\n",
       "    <tr>\n",
       "      <th>659</th>\n",
       "      <td>51</td>\n",
       "      <td>Male</td>\n",
       "      <td>1.0</td>\n",
       "      <td>0.2</td>\n",
       "      <td>176</td>\n",
       "      <td>22</td>\n",
       "      <td>21</td>\n",
       "      <td>6.9</td>\n",
       "      <td>4.2</td>\n",
       "      <td>1.58</td>\n",
       "      <td>0</td>\n",
       "    </tr>\n",
       "    <tr>\n",
       "      <th>684</th>\n",
       "      <td>69</td>\n",
       "      <td>Female</td>\n",
       "      <td>0.8</td>\n",
       "      <td>0.2</td>\n",
       "      <td>146</td>\n",
       "      <td>42</td>\n",
       "      <td>70</td>\n",
       "      <td>8.4</td>\n",
       "      <td>4.9</td>\n",
       "      <td>1.40</td>\n",
       "      <td>0</td>\n",
       "    </tr>\n",
       "    <tr>\n",
       "      <th>713</th>\n",
       "      <td>65</td>\n",
       "      <td>Male</td>\n",
       "      <td>0.7</td>\n",
       "      <td>0.2</td>\n",
       "      <td>265</td>\n",
       "      <td>30</td>\n",
       "      <td>28</td>\n",
       "      <td>5.2</td>\n",
       "      <td>1.8</td>\n",
       "      <td>0.53</td>\n",
       "      <td>0</td>\n",
       "    </tr>\n",
       "    <tr>\n",
       "      <th>722</th>\n",
       "      <td>40</td>\n",
       "      <td>Male</td>\n",
       "      <td>0.7</td>\n",
       "      <td>0.2</td>\n",
       "      <td>175</td>\n",
       "      <td>27</td>\n",
       "      <td>42</td>\n",
       "      <td>5.4</td>\n",
       "      <td>2.4</td>\n",
       "      <td>0.84</td>\n",
       "      <td>0</td>\n",
       "    </tr>\n",
       "    <tr>\n",
       "      <th>735</th>\n",
       "      <td>65</td>\n",
       "      <td>Male</td>\n",
       "      <td>0.7</td>\n",
       "      <td>0.2</td>\n",
       "      <td>199</td>\n",
       "      <td>19</td>\n",
       "      <td>22</td>\n",
       "      <td>6.3</td>\n",
       "      <td>3.6</td>\n",
       "      <td>1.33</td>\n",
       "      <td>0</td>\n",
       "    </tr>\n",
       "    <tr>\n",
       "      <th>794</th>\n",
       "      <td>41</td>\n",
       "      <td>Male</td>\n",
       "      <td>0.9</td>\n",
       "      <td>0.2</td>\n",
       "      <td>169</td>\n",
       "      <td>22</td>\n",
       "      <td>18</td>\n",
       "      <td>6.1</td>\n",
       "      <td>3.0</td>\n",
       "      <td>0.97</td>\n",
       "      <td>0</td>\n",
       "    </tr>\n",
       "  </tbody>\n",
       "</table>\n",
       "</div>"
      ],
      "text/plain": [
       "     Age  Gender  T_Bil  D_Bil  ALP  ALT_GPT  AST_GOT   TP  Alb  AG_ratio  \\\n",
       "577   70  Female    0.7    0.2  237       18       28  5.8  2.5      0.76   \n",
       "594   50  Female    1.0    0.3  191       22       31  7.8  4.0      1.05   \n",
       "628   25    Male    0.6    0.1  183       91       53  5.5  2.3      0.72   \n",
       "631   50    Male    0.7    0.2  192       18       15  7.4  4.2      1.31   \n",
       "659   51    Male    1.0    0.2  176       22       21  6.9  4.2      1.58   \n",
       "684   69  Female    0.8    0.2  146       42       70  8.4  4.9      1.40   \n",
       "713   65    Male    0.7    0.2  265       30       28  5.2  1.8      0.53   \n",
       "722   40    Male    0.7    0.2  175       27       42  5.4  2.4      0.84   \n",
       "735   65    Male    0.7    0.2  199       19       22  6.3  3.6      1.33   \n",
       "794   41    Male    0.9    0.2  169       22       18  6.1  3.0      0.97   \n",
       "\n",
       "     disease  \n",
       "577        0  \n",
       "594        0  \n",
       "628        0  \n",
       "631        0  \n",
       "659        0  \n",
       "684        0  \n",
       "713        0  \n",
       "722        0  \n",
       "735        0  \n",
       "794        0  "
      ]
     },
     "execution_count": 245,
     "metadata": {},
     "output_type": "execute_result"
    }
   ],
   "source": [
    "# 重複データの確認\n",
    "df.duplicated() # 上の行から確認して重複がなければFalseが返ってくる\n",
    "print(df.duplicated().sum())\n",
    "df[df.duplicated()] # 重複している行を抽出"
   ]
  },
  {
   "cell_type": "code",
   "execution_count": 246,
   "metadata": {},
   "outputs": [
    {
     "name": "stdout",
     "output_type": "stream",
     "text": [
      "(790, 11)\n"
     ]
    }
   ],
   "source": [
    "df.drop_duplicates(inplace=True) # 重複データを削除\n",
    "print(df.shape)"
   ]
  },
  {
   "cell_type": "code",
   "execution_count": 247,
   "metadata": {},
   "outputs": [],
   "source": [
    "# データのインデックスを振り直す\n",
    "df.reset_index(drop=True, inplace=True) # drop=Flaseだとindexが新たな列として追加される"
   ]
  },
  {
   "cell_type": "code",
   "execution_count": 248,
   "metadata": {},
   "outputs": [
    {
     "data": {
      "text/html": [
       "<div>\n",
       "<style scoped>\n",
       "    .dataframe tbody tr th:only-of-type {\n",
       "        vertical-align: middle;\n",
       "    }\n",
       "\n",
       "    .dataframe tbody tr th {\n",
       "        vertical-align: top;\n",
       "    }\n",
       "\n",
       "    .dataframe thead th {\n",
       "        text-align: right;\n",
       "    }\n",
       "</style>\n",
       "<table border=\"1\" class=\"dataframe\">\n",
       "  <thead>\n",
       "    <tr style=\"text-align: right;\">\n",
       "      <th></th>\n",
       "      <th>Age</th>\n",
       "      <th>Gender</th>\n",
       "      <th>T_Bil</th>\n",
       "      <th>D_Bil</th>\n",
       "      <th>ALP</th>\n",
       "      <th>ALT_GPT</th>\n",
       "      <th>AST_GOT</th>\n",
       "      <th>TP</th>\n",
       "      <th>Alb</th>\n",
       "      <th>AG_ratio</th>\n",
       "      <th>disease</th>\n",
       "    </tr>\n",
       "  </thead>\n",
       "  <tbody>\n",
       "    <tr>\n",
       "      <th>785</th>\n",
       "      <td>34</td>\n",
       "      <td>Male</td>\n",
       "      <td>1.9</td>\n",
       "      <td>1.0</td>\n",
       "      <td>222</td>\n",
       "      <td>35</td>\n",
       "      <td>133</td>\n",
       "      <td>6.1</td>\n",
       "      <td>2.8</td>\n",
       "      <td>0.86</td>\n",
       "      <td>0</td>\n",
       "    </tr>\n",
       "    <tr>\n",
       "      <th>786</th>\n",
       "      <td>29</td>\n",
       "      <td>Female</td>\n",
       "      <td>0.7</td>\n",
       "      <td>0.2</td>\n",
       "      <td>159</td>\n",
       "      <td>26</td>\n",
       "      <td>24</td>\n",
       "      <td>6.6</td>\n",
       "      <td>3.6</td>\n",
       "      <td>1.20</td>\n",
       "      <td>0</td>\n",
       "    </tr>\n",
       "    <tr>\n",
       "      <th>787</th>\n",
       "      <td>21</td>\n",
       "      <td>Male</td>\n",
       "      <td>0.8</td>\n",
       "      <td>0.2</td>\n",
       "      <td>184</td>\n",
       "      <td>33</td>\n",
       "      <td>56</td>\n",
       "      <td>6.9</td>\n",
       "      <td>3.6</td>\n",
       "      <td>1.08</td>\n",
       "      <td>0</td>\n",
       "    </tr>\n",
       "    <tr>\n",
       "      <th>788</th>\n",
       "      <td>40</td>\n",
       "      <td>Male</td>\n",
       "      <td>0.8</td>\n",
       "      <td>0.2</td>\n",
       "      <td>191</td>\n",
       "      <td>28</td>\n",
       "      <td>20</td>\n",
       "      <td>6.1</td>\n",
       "      <td>3.1</td>\n",
       "      <td>1.04</td>\n",
       "      <td>0</td>\n",
       "    </tr>\n",
       "    <tr>\n",
       "      <th>789</th>\n",
       "      <td>61</td>\n",
       "      <td>Male</td>\n",
       "      <td>0.6</td>\n",
       "      <td>0.1</td>\n",
       "      <td>188</td>\n",
       "      <td>20</td>\n",
       "      <td>21</td>\n",
       "      <td>6.2</td>\n",
       "      <td>3.3</td>\n",
       "      <td>1.17</td>\n",
       "      <td>0</td>\n",
       "    </tr>\n",
       "  </tbody>\n",
       "</table>\n",
       "</div>"
      ],
      "text/plain": [
       "     Age  Gender  T_Bil  D_Bil  ALP  ALT_GPT  AST_GOT   TP  Alb  AG_ratio  \\\n",
       "785   34    Male    1.9    1.0  222       35      133  6.1  2.8      0.86   \n",
       "786   29  Female    0.7    0.2  159       26       24  6.6  3.6      1.20   \n",
       "787   21    Male    0.8    0.2  184       33       56  6.9  3.6      1.08   \n",
       "788   40    Male    0.8    0.2  191       28       20  6.1  3.1      1.04   \n",
       "789   61    Male    0.6    0.1  188       20       21  6.2  3.3      1.17   \n",
       "\n",
       "     disease  \n",
       "785        0  \n",
       "786        0  \n",
       "787        0  \n",
       "788        0  \n",
       "789        0  "
      ]
     },
     "execution_count": 248,
     "metadata": {},
     "output_type": "execute_result"
    }
   ],
   "source": [
    "df.tail(5)\n",
    "# 789まで"
   ]
  },
  {
   "cell_type": "markdown",
   "metadata": {},
   "source": [
    "### EDA"
   ]
  },
  {
   "cell_type": "markdown",
   "metadata": {},
   "source": [
    "探索的分析(EDA): データを俯瞰し，データの特徴や予測のための手掛かりとなる仮説を立てるための網羅的な分析(外れ値を見つけたり，関係がありそうな変数を探したり)"
   ]
  },
  {
   "cell_type": "code",
   "execution_count": 249,
   "metadata": {},
   "outputs": [
    {
     "data": {
      "text/html": [
       "<div>\n",
       "<style scoped>\n",
       "    .dataframe tbody tr th:only-of-type {\n",
       "        vertical-align: middle;\n",
       "    }\n",
       "\n",
       "    .dataframe tbody tr th {\n",
       "        vertical-align: top;\n",
       "    }\n",
       "\n",
       "    .dataframe thead th {\n",
       "        text-align: right;\n",
       "    }\n",
       "</style>\n",
       "<table border=\"1\" class=\"dataframe\">\n",
       "  <thead>\n",
       "    <tr style=\"text-align: right;\">\n",
       "      <th></th>\n",
       "      <th>Age</th>\n",
       "      <th>T_Bil</th>\n",
       "      <th>D_Bil</th>\n",
       "      <th>ALP</th>\n",
       "      <th>ALT_GPT</th>\n",
       "      <th>AST_GOT</th>\n",
       "      <th>TP</th>\n",
       "      <th>Alb</th>\n",
       "      <th>AG_ratio</th>\n",
       "      <th>disease</th>\n",
       "    </tr>\n",
       "  </thead>\n",
       "  <tbody>\n",
       "    <tr>\n",
       "      <th>count</th>\n",
       "      <td>790.000000</td>\n",
       "      <td>790.000000</td>\n",
       "      <td>790.000000</td>\n",
       "      <td>790.000000</td>\n",
       "      <td>790.000000</td>\n",
       "      <td>790.000000</td>\n",
       "      <td>790.000000</td>\n",
       "      <td>790.000000</td>\n",
       "      <td>790.000000</td>\n",
       "      <td>790.000000</td>\n",
       "    </tr>\n",
       "    <tr>\n",
       "      <th>mean</th>\n",
       "      <td>43.710127</td>\n",
       "      <td>2.836709</td>\n",
       "      <td>1.226709</td>\n",
       "      <td>269.035443</td>\n",
       "      <td>66.174684</td>\n",
       "      <td>89.001266</td>\n",
       "      <td>6.518987</td>\n",
       "      <td>3.213924</td>\n",
       "      <td>0.991480</td>\n",
       "      <td>0.513924</td>\n",
       "    </tr>\n",
       "    <tr>\n",
       "      <th>std</th>\n",
       "      <td>16.290480</td>\n",
       "      <td>5.475744</td>\n",
       "      <td>2.483529</td>\n",
       "      <td>217.648811</td>\n",
       "      <td>155.959794</td>\n",
       "      <td>249.549767</td>\n",
       "      <td>1.032388</td>\n",
       "      <td>0.760867</td>\n",
       "      <td>0.288487</td>\n",
       "      <td>0.500123</td>\n",
       "    </tr>\n",
       "    <tr>\n",
       "      <th>min</th>\n",
       "      <td>4.000000</td>\n",
       "      <td>0.500000</td>\n",
       "      <td>0.100000</td>\n",
       "      <td>63.000000</td>\n",
       "      <td>10.000000</td>\n",
       "      <td>10.000000</td>\n",
       "      <td>2.700000</td>\n",
       "      <td>0.900000</td>\n",
       "      <td>0.270000</td>\n",
       "      <td>0.000000</td>\n",
       "    </tr>\n",
       "    <tr>\n",
       "      <th>25%</th>\n",
       "      <td>32.000000</td>\n",
       "      <td>0.800000</td>\n",
       "      <td>0.200000</td>\n",
       "      <td>171.250000</td>\n",
       "      <td>22.000000</td>\n",
       "      <td>23.000000</td>\n",
       "      <td>5.900000</td>\n",
       "      <td>2.700000</td>\n",
       "      <td>0.810000</td>\n",
       "      <td>0.000000</td>\n",
       "    </tr>\n",
       "    <tr>\n",
       "      <th>50%</th>\n",
       "      <td>45.000000</td>\n",
       "      <td>1.100000</td>\n",
       "      <td>0.300000</td>\n",
       "      <td>198.000000</td>\n",
       "      <td>31.000000</td>\n",
       "      <td>35.000000</td>\n",
       "      <td>6.600000</td>\n",
       "      <td>3.200000</td>\n",
       "      <td>0.980000</td>\n",
       "      <td>1.000000</td>\n",
       "    </tr>\n",
       "    <tr>\n",
       "      <th>75%</th>\n",
       "      <td>57.000000</td>\n",
       "      <td>2.100000</td>\n",
       "      <td>0.900000</td>\n",
       "      <td>282.000000</td>\n",
       "      <td>52.750000</td>\n",
       "      <td>67.000000</td>\n",
       "      <td>7.200000</td>\n",
       "      <td>3.800000</td>\n",
       "      <td>1.170000</td>\n",
       "      <td>1.000000</td>\n",
       "    </tr>\n",
       "    <tr>\n",
       "      <th>max</th>\n",
       "      <td>90.000000</td>\n",
       "      <td>75.300000</td>\n",
       "      <td>19.800000</td>\n",
       "      <td>2110.000000</td>\n",
       "      <td>2000.000000</td>\n",
       "      <td>4929.000000</td>\n",
       "      <td>9.600000</td>\n",
       "      <td>5.500000</td>\n",
       "      <td>2.840000</td>\n",
       "      <td>1.000000</td>\n",
       "    </tr>\n",
       "  </tbody>\n",
       "</table>\n",
       "</div>"
      ],
      "text/plain": [
       "              Age       T_Bil       D_Bil          ALP      ALT_GPT  \\\n",
       "count  790.000000  790.000000  790.000000   790.000000   790.000000   \n",
       "mean    43.710127    2.836709    1.226709   269.035443    66.174684   \n",
       "std     16.290480    5.475744    2.483529   217.648811   155.959794   \n",
       "min      4.000000    0.500000    0.100000    63.000000    10.000000   \n",
       "25%     32.000000    0.800000    0.200000   171.250000    22.000000   \n",
       "50%     45.000000    1.100000    0.300000   198.000000    31.000000   \n",
       "75%     57.000000    2.100000    0.900000   282.000000    52.750000   \n",
       "max     90.000000   75.300000   19.800000  2110.000000  2000.000000   \n",
       "\n",
       "           AST_GOT          TP         Alb    AG_ratio     disease  \n",
       "count   790.000000  790.000000  790.000000  790.000000  790.000000  \n",
       "mean     89.001266    6.518987    3.213924    0.991480    0.513924  \n",
       "std     249.549767    1.032388    0.760867    0.288487    0.500123  \n",
       "min      10.000000    2.700000    0.900000    0.270000    0.000000  \n",
       "25%      23.000000    5.900000    2.700000    0.810000    0.000000  \n",
       "50%      35.000000    6.600000    3.200000    0.980000    1.000000  \n",
       "75%      67.000000    7.200000    3.800000    1.170000    1.000000  \n",
       "max    4929.000000    9.600000    5.500000    2.840000    1.000000  "
      ]
     },
     "execution_count": 249,
     "metadata": {},
     "output_type": "execute_result"
    }
   ],
   "source": [
    "# 基本統計量の確認\n",
    "df.describe() # Genderは数値ではないので表示されない"
   ]
  },
  {
   "cell_type": "code",
   "execution_count": 250,
   "metadata": {},
   "outputs": [
    {
     "data": {
      "text/html": [
       "<div>\n",
       "<style scoped>\n",
       "    .dataframe tbody tr th:only-of-type {\n",
       "        vertical-align: middle;\n",
       "    }\n",
       "\n",
       "    .dataframe tbody tr th {\n",
       "        vertical-align: top;\n",
       "    }\n",
       "\n",
       "    .dataframe thead th {\n",
       "        text-align: right;\n",
       "    }\n",
       "</style>\n",
       "<table border=\"1\" class=\"dataframe\">\n",
       "  <thead>\n",
       "    <tr style=\"text-align: right;\">\n",
       "      <th></th>\n",
       "      <th>Age</th>\n",
       "      <th>Gender</th>\n",
       "      <th>T_Bil</th>\n",
       "      <th>D_Bil</th>\n",
       "      <th>ALP</th>\n",
       "      <th>ALT_GPT</th>\n",
       "      <th>AST_GOT</th>\n",
       "      <th>TP</th>\n",
       "      <th>Alb</th>\n",
       "      <th>AG_ratio</th>\n",
       "      <th>disease</th>\n",
       "    </tr>\n",
       "  </thead>\n",
       "  <tbody>\n",
       "    <tr>\n",
       "      <th>count</th>\n",
       "      <td>790.000000</td>\n",
       "      <td>790</td>\n",
       "      <td>790.000000</td>\n",
       "      <td>790.000000</td>\n",
       "      <td>790.000000</td>\n",
       "      <td>790.000000</td>\n",
       "      <td>790.000000</td>\n",
       "      <td>790.000000</td>\n",
       "      <td>790.000000</td>\n",
       "      <td>790.000000</td>\n",
       "      <td>790.000000</td>\n",
       "    </tr>\n",
       "    <tr>\n",
       "      <th>unique</th>\n",
       "      <td>NaN</td>\n",
       "      <td>2</td>\n",
       "      <td>NaN</td>\n",
       "      <td>NaN</td>\n",
       "      <td>NaN</td>\n",
       "      <td>NaN</td>\n",
       "      <td>NaN</td>\n",
       "      <td>NaN</td>\n",
       "      <td>NaN</td>\n",
       "      <td>NaN</td>\n",
       "      <td>NaN</td>\n",
       "    </tr>\n",
       "    <tr>\n",
       "      <th>top</th>\n",
       "      <td>NaN</td>\n",
       "      <td>Male</td>\n",
       "      <td>NaN</td>\n",
       "      <td>NaN</td>\n",
       "      <td>NaN</td>\n",
       "      <td>NaN</td>\n",
       "      <td>NaN</td>\n",
       "      <td>NaN</td>\n",
       "      <td>NaN</td>\n",
       "      <td>NaN</td>\n",
       "      <td>NaN</td>\n",
       "    </tr>\n",
       "    <tr>\n",
       "      <th>freq</th>\n",
       "      <td>NaN</td>\n",
       "      <td>600</td>\n",
       "      <td>NaN</td>\n",
       "      <td>NaN</td>\n",
       "      <td>NaN</td>\n",
       "      <td>NaN</td>\n",
       "      <td>NaN</td>\n",
       "      <td>NaN</td>\n",
       "      <td>NaN</td>\n",
       "      <td>NaN</td>\n",
       "      <td>NaN</td>\n",
       "    </tr>\n",
       "    <tr>\n",
       "      <th>mean</th>\n",
       "      <td>43.710127</td>\n",
       "      <td>NaN</td>\n",
       "      <td>2.836709</td>\n",
       "      <td>1.226709</td>\n",
       "      <td>269.035443</td>\n",
       "      <td>66.174684</td>\n",
       "      <td>89.001266</td>\n",
       "      <td>6.518987</td>\n",
       "      <td>3.213924</td>\n",
       "      <td>0.991480</td>\n",
       "      <td>0.513924</td>\n",
       "    </tr>\n",
       "    <tr>\n",
       "      <th>std</th>\n",
       "      <td>16.290480</td>\n",
       "      <td>NaN</td>\n",
       "      <td>5.475744</td>\n",
       "      <td>2.483529</td>\n",
       "      <td>217.648811</td>\n",
       "      <td>155.959794</td>\n",
       "      <td>249.549767</td>\n",
       "      <td>1.032388</td>\n",
       "      <td>0.760867</td>\n",
       "      <td>0.288487</td>\n",
       "      <td>0.500123</td>\n",
       "    </tr>\n",
       "    <tr>\n",
       "      <th>min</th>\n",
       "      <td>4.000000</td>\n",
       "      <td>NaN</td>\n",
       "      <td>0.500000</td>\n",
       "      <td>0.100000</td>\n",
       "      <td>63.000000</td>\n",
       "      <td>10.000000</td>\n",
       "      <td>10.000000</td>\n",
       "      <td>2.700000</td>\n",
       "      <td>0.900000</td>\n",
       "      <td>0.270000</td>\n",
       "      <td>0.000000</td>\n",
       "    </tr>\n",
       "    <tr>\n",
       "      <th>25%</th>\n",
       "      <td>32.000000</td>\n",
       "      <td>NaN</td>\n",
       "      <td>0.800000</td>\n",
       "      <td>0.200000</td>\n",
       "      <td>171.250000</td>\n",
       "      <td>22.000000</td>\n",
       "      <td>23.000000</td>\n",
       "      <td>5.900000</td>\n",
       "      <td>2.700000</td>\n",
       "      <td>0.810000</td>\n",
       "      <td>0.000000</td>\n",
       "    </tr>\n",
       "    <tr>\n",
       "      <th>50%</th>\n",
       "      <td>45.000000</td>\n",
       "      <td>NaN</td>\n",
       "      <td>1.100000</td>\n",
       "      <td>0.300000</td>\n",
       "      <td>198.000000</td>\n",
       "      <td>31.000000</td>\n",
       "      <td>35.000000</td>\n",
       "      <td>6.600000</td>\n",
       "      <td>3.200000</td>\n",
       "      <td>0.980000</td>\n",
       "      <td>1.000000</td>\n",
       "    </tr>\n",
       "    <tr>\n",
       "      <th>75%</th>\n",
       "      <td>57.000000</td>\n",
       "      <td>NaN</td>\n",
       "      <td>2.100000</td>\n",
       "      <td>0.900000</td>\n",
       "      <td>282.000000</td>\n",
       "      <td>52.750000</td>\n",
       "      <td>67.000000</td>\n",
       "      <td>7.200000</td>\n",
       "      <td>3.800000</td>\n",
       "      <td>1.170000</td>\n",
       "      <td>1.000000</td>\n",
       "    </tr>\n",
       "    <tr>\n",
       "      <th>max</th>\n",
       "      <td>90.000000</td>\n",
       "      <td>NaN</td>\n",
       "      <td>75.300000</td>\n",
       "      <td>19.800000</td>\n",
       "      <td>2110.000000</td>\n",
       "      <td>2000.000000</td>\n",
       "      <td>4929.000000</td>\n",
       "      <td>9.600000</td>\n",
       "      <td>5.500000</td>\n",
       "      <td>2.840000</td>\n",
       "      <td>1.000000</td>\n",
       "    </tr>\n",
       "  </tbody>\n",
       "</table>\n",
       "</div>"
      ],
      "text/plain": [
       "               Age Gender       T_Bil       D_Bil          ALP      ALT_GPT  \\\n",
       "count   790.000000    790  790.000000  790.000000   790.000000   790.000000   \n",
       "unique         NaN      2         NaN         NaN          NaN          NaN   \n",
       "top            NaN   Male         NaN         NaN          NaN          NaN   \n",
       "freq           NaN    600         NaN         NaN          NaN          NaN   \n",
       "mean     43.710127    NaN    2.836709    1.226709   269.035443    66.174684   \n",
       "std      16.290480    NaN    5.475744    2.483529   217.648811   155.959794   \n",
       "min       4.000000    NaN    0.500000    0.100000    63.000000    10.000000   \n",
       "25%      32.000000    NaN    0.800000    0.200000   171.250000    22.000000   \n",
       "50%      45.000000    NaN    1.100000    0.300000   198.000000    31.000000   \n",
       "75%      57.000000    NaN    2.100000    0.900000   282.000000    52.750000   \n",
       "max      90.000000    NaN   75.300000   19.800000  2110.000000  2000.000000   \n",
       "\n",
       "            AST_GOT          TP         Alb    AG_ratio     disease  \n",
       "count    790.000000  790.000000  790.000000  790.000000  790.000000  \n",
       "unique          NaN         NaN         NaN         NaN         NaN  \n",
       "top             NaN         NaN         NaN         NaN         NaN  \n",
       "freq            NaN         NaN         NaN         NaN         NaN  \n",
       "mean      89.001266    6.518987    3.213924    0.991480    0.513924  \n",
       "std      249.549767    1.032388    0.760867    0.288487    0.500123  \n",
       "min       10.000000    2.700000    0.900000    0.270000    0.000000  \n",
       "25%       23.000000    5.900000    2.700000    0.810000    0.000000  \n",
       "50%       35.000000    6.600000    3.200000    0.980000    1.000000  \n",
       "75%       67.000000    7.200000    3.800000    1.170000    1.000000  \n",
       "max     4929.000000    9.600000    5.500000    2.840000    1.000000  "
      ]
     },
     "execution_count": 250,
     "metadata": {},
     "output_type": "execute_result"
    }
   ],
   "source": [
    "# Genderの値を確認\n",
    "df.describe(include='all') # include='all'で数値以外のデータも表示"
   ]
  },
  {
   "cell_type": "code",
   "execution_count": 251,
   "metadata": {},
   "outputs": [
    {
     "name": "stdout",
     "output_type": "stream",
     "text": [
      "   Age  T_Bil  D_Bil  ALP  ALT_GPT  AST_GOT   TP  Alb  AG_ratio\n",
      "0   65    1.0    0.2  187       16       18  6.8  3.3      0.92\n",
      "1   62   11.2    5.6  699       64      100  7.5  3.2      0.73\n",
      "2   62    7.6    4.2  490       60       68  7.0  3.3      0.87\n",
      "3   58    1.3    0.5  182       14       20  6.8  3.4      0.98\n",
      "4   72    4.2    2.1  195       27       59  7.3  2.4      0.48\n",
      "   Gender  disease\n",
      "0  Female        1\n",
      "1    Male        1\n",
      "2    Male        1\n",
      "3    Male        1\n",
      "4    Male        1\n"
     ]
    }
   ],
   "source": [
    "# 数量変数とカテゴリ変数の分離\n",
    "col_categoric = ['Gender', 'disease']\n",
    "df_numeric = df.drop(col_categoric, axis=1) # 数値変数のみのデータフレーム, axis=1で列方向に削除\n",
    "print(df_numeric.head(5))\n",
    "df_categoric = df[col_categoric] # カテゴリ変数のみのデータフレーム\n",
    "print(df_categoric.head(5))"
   ]
  },
  {
   "cell_type": "code",
   "execution_count": 252,
   "metadata": {},
   "outputs": [
    {
     "name": "stdout",
     "output_type": "stream",
     "text": [
      "Gender\n",
      "Male      600\n",
      "Female    190\n",
      "Name: count, dtype: int64\n"
     ]
    },
    {
     "data": {
      "text/plain": [
       "<Axes: xlabel='Gender'>"
      ]
     },
     "execution_count": 252,
     "metadata": {},
     "output_type": "execute_result"
    },
    {
     "data": {
      "image/png": "[encoded data removed]",
      "text/plain": [
       "<Figure size 640x480 with 1 Axes>"
      ]
     },
     "metadata": {},
     "output_type": "display_data"
    }
   ],
   "source": [
    "# 数量変数のデータの分布を確認\n",
    "print(df_categoric['Gender'].value_counts())\n",
    "counts_gender = df_categoric['Gender'].value_counts()\n",
    "counts_gender.plot(kind='bar') # 棒グラフで表示"
   ]
  },
  {
   "cell_type": "code",
   "execution_count": 253,
   "metadata": {},
   "outputs": [
    {
     "data": {
      "text/plain": [
       "<Axes: xlabel='disease'>"
      ]
     },
     "execution_count": 253,
     "metadata": {},
     "output_type": "execute_result"
    },
    {
     "data": {
      "image/png": "[encoded data removed]",
      "text/plain": [
       "<Figure size 640x480 with 1 Axes>"
      ]
     },
     "metadata": {},
     "output_type": "display_data"
    }
   ],
   "source": [
    "counts_disease = df_categoric['disease'].value_counts()\n",
    "counts_disease.plot(kind='bar')"
   ]
  },
  {
   "cell_type": "code",
   "execution_count": 254,
   "metadata": {},
   "outputs": [
    {
     "data": {
      "image/png": "[encoded data removed]",
      "text/plain": [
       "<Figure size 1000x1000 with 9 Axes>"
      ]
     },
     "metadata": {},
     "output_type": "display_data"
    }
   ],
   "source": [
    "# 数量変数のデータの分布を確認\n",
    "# histは数値データのみしか利用できない\n",
    "df_numeric.hist(figsize=(10,10)) # figsizeでグラフの大きさを指定\n",
    "plt.tight_layout() # グラフの重なりを解消"
   ]
  },
  {
   "cell_type": "code",
   "execution_count": 255,
   "metadata": {},
   "outputs": [
    {
     "data": {
      "text/html": [
       "<div>\n",
       "<style scoped>\n",
       "    .dataframe tbody tr th:only-of-type {\n",
       "        vertical-align: middle;\n",
       "    }\n",
       "\n",
       "    .dataframe tbody tr th {\n",
       "        vertical-align: top;\n",
       "    }\n",
       "\n",
       "    .dataframe thead th {\n",
       "        text-align: right;\n",
       "    }\n",
       "</style>\n",
       "<table border=\"1\" class=\"dataframe\">\n",
       "  <thead>\n",
       "    <tr style=\"text-align: right;\">\n",
       "      <th></th>\n",
       "      <th>Age</th>\n",
       "      <th>T_Bil</th>\n",
       "      <th>D_Bil</th>\n",
       "      <th>ALP</th>\n",
       "      <th>ALT_GPT</th>\n",
       "      <th>AST_GOT</th>\n",
       "      <th>TP</th>\n",
       "      <th>Alb</th>\n",
       "      <th>AG_ratio</th>\n",
       "      <th>disease</th>\n",
       "    </tr>\n",
       "  </thead>\n",
       "  <tbody>\n",
       "    <tr>\n",
       "      <th>0</th>\n",
       "      <td>65</td>\n",
       "      <td>1.0</td>\n",
       "      <td>0.2</td>\n",
       "      <td>187</td>\n",
       "      <td>16</td>\n",
       "      <td>18</td>\n",
       "      <td>6.8</td>\n",
       "      <td>3.3</td>\n",
       "      <td>0.92</td>\n",
       "      <td>1</td>\n",
       "    </tr>\n",
       "    <tr>\n",
       "      <th>1</th>\n",
       "      <td>62</td>\n",
       "      <td>11.2</td>\n",
       "      <td>5.6</td>\n",
       "      <td>699</td>\n",
       "      <td>64</td>\n",
       "      <td>100</td>\n",
       "      <td>7.5</td>\n",
       "      <td>3.2</td>\n",
       "      <td>0.73</td>\n",
       "      <td>1</td>\n",
       "    </tr>\n",
       "    <tr>\n",
       "      <th>2</th>\n",
       "      <td>62</td>\n",
       "      <td>7.6</td>\n",
       "      <td>4.2</td>\n",
       "      <td>490</td>\n",
       "      <td>60</td>\n",
       "      <td>68</td>\n",
       "      <td>7.0</td>\n",
       "      <td>3.3</td>\n",
       "      <td>0.87</td>\n",
       "      <td>1</td>\n",
       "    </tr>\n",
       "    <tr>\n",
       "      <th>3</th>\n",
       "      <td>58</td>\n",
       "      <td>1.3</td>\n",
       "      <td>0.5</td>\n",
       "      <td>182</td>\n",
       "      <td>14</td>\n",
       "      <td>20</td>\n",
       "      <td>6.8</td>\n",
       "      <td>3.4</td>\n",
       "      <td>0.98</td>\n",
       "      <td>1</td>\n",
       "    </tr>\n",
       "    <tr>\n",
       "      <th>4</th>\n",
       "      <td>72</td>\n",
       "      <td>4.2</td>\n",
       "      <td>2.1</td>\n",
       "      <td>195</td>\n",
       "      <td>27</td>\n",
       "      <td>59</td>\n",
       "      <td>7.3</td>\n",
       "      <td>2.4</td>\n",
       "      <td>0.48</td>\n",
       "      <td>1</td>\n",
       "    </tr>\n",
       "  </tbody>\n",
       "</table>\n",
       "</div>"
      ],
      "text/plain": [
       "   Age  T_Bil  D_Bil  ALP  ALT_GPT  AST_GOT   TP  Alb  AG_ratio  disease\n",
       "0   65    1.0    0.2  187       16       18  6.8  3.3      0.92        1\n",
       "1   62   11.2    5.6  699       64      100  7.5  3.2      0.73        1\n",
       "2   62    7.6    4.2  490       60       68  7.0  3.3      0.87        1\n",
       "3   58    1.3    0.5  182       14       20  6.8  3.4      0.98        1\n",
       "4   72    4.2    2.1  195       27       59  7.3  2.4      0.48        1"
      ]
     },
     "execution_count": 255,
     "metadata": {},
     "output_type": "execute_result"
    }
   ],
   "source": [
    "# 目的変数のカテゴリごとのデータの分布を確認\n",
    "# df_numericにdisease列を結合\n",
    "df_tmp = pd.concat([df_numeric, df_categoric['disease']], axis=1)\n",
    "df_tmp.head(5)"
   ]
  },
  {
   "cell_type": "code",
   "execution_count": 256,
   "metadata": {},
   "outputs": [
    {
     "data": {
      "text/html": [
       "<div>\n",
       "<style scoped>\n",
       "    .dataframe tbody tr th:only-of-type {\n",
       "        vertical-align: middle;\n",
       "    }\n",
       "\n",
       "    .dataframe tbody tr th {\n",
       "        vertical-align: top;\n",
       "    }\n",
       "\n",
       "    .dataframe thead th {\n",
       "        text-align: right;\n",
       "    }\n",
       "</style>\n",
       "<table border=\"1\" class=\"dataframe\">\n",
       "  <thead>\n",
       "    <tr style=\"text-align: right;\">\n",
       "      <th></th>\n",
       "      <th>Age</th>\n",
       "      <th>T_Bil</th>\n",
       "      <th>D_Bil</th>\n",
       "      <th>ALP</th>\n",
       "      <th>ALT_GPT</th>\n",
       "      <th>AST_GOT</th>\n",
       "      <th>TP</th>\n",
       "      <th>Alb</th>\n",
       "      <th>AG_ratio</th>\n",
       "      <th>disease</th>\n",
       "    </tr>\n",
       "  </thead>\n",
       "  <tbody>\n",
       "    <tr>\n",
       "      <th>8</th>\n",
       "      <td>17</td>\n",
       "      <td>0.9</td>\n",
       "      <td>0.3</td>\n",
       "      <td>202</td>\n",
       "      <td>22</td>\n",
       "      <td>19</td>\n",
       "      <td>7.4</td>\n",
       "      <td>4.1</td>\n",
       "      <td>1.24</td>\n",
       "      <td>0</td>\n",
       "    </tr>\n",
       "    <tr>\n",
       "      <th>12</th>\n",
       "      <td>64</td>\n",
       "      <td>0.9</td>\n",
       "      <td>0.3</td>\n",
       "      <td>310</td>\n",
       "      <td>61</td>\n",
       "      <td>58</td>\n",
       "      <td>7.0</td>\n",
       "      <td>3.4</td>\n",
       "      <td>0.94</td>\n",
       "      <td>0</td>\n",
       "    </tr>\n",
       "    <tr>\n",
       "      <th>15</th>\n",
       "      <td>25</td>\n",
       "      <td>0.6</td>\n",
       "      <td>0.1</td>\n",
       "      <td>183</td>\n",
       "      <td>91</td>\n",
       "      <td>53</td>\n",
       "      <td>5.5</td>\n",
       "      <td>2.3</td>\n",
       "      <td>0.72</td>\n",
       "      <td>0</td>\n",
       "    </tr>\n",
       "    <tr>\n",
       "      <th>17</th>\n",
       "      <td>33</td>\n",
       "      <td>1.6</td>\n",
       "      <td>0.5</td>\n",
       "      <td>165</td>\n",
       "      <td>15</td>\n",
       "      <td>23</td>\n",
       "      <td>7.3</td>\n",
       "      <td>3.5</td>\n",
       "      <td>0.92</td>\n",
       "      <td>0</td>\n",
       "    </tr>\n",
       "    <tr>\n",
       "      <th>23</th>\n",
       "      <td>63</td>\n",
       "      <td>0.9</td>\n",
       "      <td>0.2</td>\n",
       "      <td>194</td>\n",
       "      <td>52</td>\n",
       "      <td>45</td>\n",
       "      <td>6.0</td>\n",
       "      <td>3.9</td>\n",
       "      <td>1.86</td>\n",
       "      <td>0</td>\n",
       "    </tr>\n",
       "  </tbody>\n",
       "</table>\n",
       "</div>"
      ],
      "text/plain": [
       "    Age  T_Bil  D_Bil  ALP  ALT_GPT  AST_GOT   TP  Alb  AG_ratio  disease\n",
       "8    17    0.9    0.3  202       22       19  7.4  4.1      1.24        0\n",
       "12   64    0.9    0.3  310       61       58  7.0  3.4      0.94        0\n",
       "15   25    0.6    0.1  183       91       53  5.5  2.3      0.72        0\n",
       "17   33    1.6    0.5  165       15       23  7.3  3.5      0.92        0\n",
       "23   63    0.9    0.2  194       52       45  6.0  3.9      1.86        0"
      ]
     },
     "execution_count": 256,
     "metadata": {},
     "output_type": "execute_result"
    }
   ],
   "source": [
    "# query関数を使用してdiseaseが0のデータと1のデータに分ける\n",
    "df_tmp.query('disease == 0').head(5)"
   ]
  },
  {
   "cell_type": "code",
   "execution_count": 257,
   "metadata": {},
   "outputs": [
    {
     "data": {
      "text/html": [
       "<div>\n",
       "<style scoped>\n",
       "    .dataframe tbody tr th:only-of-type {\n",
       "        vertical-align: middle;\n",
       "    }\n",
       "\n",
       "    .dataframe tbody tr th {\n",
       "        vertical-align: top;\n",
       "    }\n",
       "\n",
       "    .dataframe thead th {\n",
       "        text-align: right;\n",
       "    }\n",
       "</style>\n",
       "<table border=\"1\" class=\"dataframe\">\n",
       "  <thead>\n",
       "    <tr style=\"text-align: right;\">\n",
       "      <th></th>\n",
       "      <th>Age</th>\n",
       "      <th>T_Bil</th>\n",
       "      <th>D_Bil</th>\n",
       "      <th>ALP</th>\n",
       "      <th>ALT_GPT</th>\n",
       "      <th>AST_GOT</th>\n",
       "      <th>TP</th>\n",
       "      <th>Alb</th>\n",
       "      <th>AG_ratio</th>\n",
       "      <th>disease</th>\n",
       "    </tr>\n",
       "  </thead>\n",
       "  <tbody>\n",
       "    <tr>\n",
       "      <th>0</th>\n",
       "      <td>65</td>\n",
       "      <td>1.0</td>\n",
       "      <td>0.2</td>\n",
       "      <td>187</td>\n",
       "      <td>16</td>\n",
       "      <td>18</td>\n",
       "      <td>6.8</td>\n",
       "      <td>3.3</td>\n",
       "      <td>0.92</td>\n",
       "      <td>1</td>\n",
       "    </tr>\n",
       "    <tr>\n",
       "      <th>1</th>\n",
       "      <td>62</td>\n",
       "      <td>11.2</td>\n",
       "      <td>5.6</td>\n",
       "      <td>699</td>\n",
       "      <td>64</td>\n",
       "      <td>100</td>\n",
       "      <td>7.5</td>\n",
       "      <td>3.2</td>\n",
       "      <td>0.73</td>\n",
       "      <td>1</td>\n",
       "    </tr>\n",
       "    <tr>\n",
       "      <th>2</th>\n",
       "      <td>62</td>\n",
       "      <td>7.6</td>\n",
       "      <td>4.2</td>\n",
       "      <td>490</td>\n",
       "      <td>60</td>\n",
       "      <td>68</td>\n",
       "      <td>7.0</td>\n",
       "      <td>3.3</td>\n",
       "      <td>0.87</td>\n",
       "      <td>1</td>\n",
       "    </tr>\n",
       "    <tr>\n",
       "      <th>3</th>\n",
       "      <td>58</td>\n",
       "      <td>1.3</td>\n",
       "      <td>0.5</td>\n",
       "      <td>182</td>\n",
       "      <td>14</td>\n",
       "      <td>20</td>\n",
       "      <td>6.8</td>\n",
       "      <td>3.4</td>\n",
       "      <td>0.98</td>\n",
       "      <td>1</td>\n",
       "    </tr>\n",
       "    <tr>\n",
       "      <th>4</th>\n",
       "      <td>72</td>\n",
       "      <td>4.2</td>\n",
       "      <td>2.1</td>\n",
       "      <td>195</td>\n",
       "      <td>27</td>\n",
       "      <td>59</td>\n",
       "      <td>7.3</td>\n",
       "      <td>2.4</td>\n",
       "      <td>0.48</td>\n",
       "      <td>1</td>\n",
       "    </tr>\n",
       "  </tbody>\n",
       "</table>\n",
       "</div>"
      ],
      "text/plain": [
       "   Age  T_Bil  D_Bil  ALP  ALT_GPT  AST_GOT   TP  Alb  AG_ratio  disease\n",
       "0   65    1.0    0.2  187       16       18  6.8  3.3      0.92        1\n",
       "1   62   11.2    5.6  699       64      100  7.5  3.2      0.73        1\n",
       "2   62    7.6    4.2  490       60       68  7.0  3.3      0.87        1\n",
       "3   58    1.3    0.5  182       14       20  6.8  3.4      0.98        1\n",
       "4   72    4.2    2.1  195       27       59  7.3  2.4      0.48        1"
      ]
     },
     "execution_count": 257,
     "metadata": {},
     "output_type": "execute_result"
    }
   ],
   "source": [
    "df_tmp.query('disease == 1').head(5)"
   ]
  },
  {
   "cell_type": "code",
   "execution_count": 258,
   "metadata": {},
   "outputs": [],
   "source": [
    "# 疾患なしのデータからAgeの分布を確認\n",
    "df_Age_non = df_tmp.query('disease == 0')['Age']\n",
    "# 疾患ありのAgeの分布を確認\n",
    "df_Age_diseased = df_tmp.query('disease == 1')['Age']"
   ]
  },
  {
   "cell_type": "code",
   "execution_count": 259,
   "metadata": {},
   "outputs": [
    {
     "data": {
      "text/plain": [
       "<matplotlib.legend.Legend at 0x15bb49070>"
      ]
     },
     "execution_count": 259,
     "metadata": {},
     "output_type": "execute_result"
    },
    {
     "data": {
      "image/png": "[encoded data removed]",
      "text/plain": [
       "<Figure size 640x480 with 1 Axes>"
      ]
     },
     "metadata": {},
     "output_type": "display_data"
    }
   ],
   "source": [
    "# ヒストグラムを重ねて書くにはseabornを使用．\n",
    "# matplotlibでも書けるが，より簡単で美しい\n",
    "import seaborn as sns\n",
    "# ヒストグラムを重ねて描画\n",
    "sns.histplot(df_Age_non, color='blue', label='non', alpha=0.3, kde=True) # kde=Trueでカーネル密度推定, alphaで透明度を指定\n",
    "sns.histplot(df_Age_diseased, color='red', label='diseased', alpha=0.3, kde=True)\n",
    "plt.legend(labels=['non', 'diseased'], loc='upper right') # 凡例の表示"
   ]
  },
  {
   "cell_type": "code",
   "execution_count": 260,
   "metadata": {},
   "outputs": [
    {
     "data": {
      "text/plain": [
       "(0.0, 2.0)"
      ]
     },
     "execution_count": 260,
     "metadata": {},
     "output_type": "execute_result"
    },
    {
     "data": {
      "image/png": "[encoded data removed]",
      "text/plain": [
       "<Figure size 640x480 with 1 Axes>"
      ]
     },
     "metadata": {},
     "output_type": "display_data"
    }
   ],
   "source": [
    "# T_Bilの分布を確認\n",
    "df_T_Bil_non = df_tmp.query('disease == 0')['T_Bil']\n",
    "df_T_Bil_diseased = df_tmp.query('disease == 1')['T_Bil']\n",
    "sns.histplot(df_T_Bil_non, color='blue', label='non', alpha=0.3, kde=True)\n",
    "sns.histplot(df_T_Bil_diseased, color='red', label='diseased', alpha=0.3, kde=True)\n",
    "plt.legend(labels=['non', 'diseased'], loc='upper right')\n",
    "plt.xlim(0, 2) # x軸の範囲を指定"
   ]
  },
  {
   "cell_type": "code",
   "execution_count": 261,
   "metadata": {},
   "outputs": [
    {
     "data": {
      "image/png": "[encoded data removed]",
      "text/plain": [
       "<Figure size 1200x1200 with 9 Axes>"
      ]
     },
     "metadata": {},
     "output_type": "display_data"
    }
   ],
   "source": [
    "# df_numericには9つの変数あり\n",
    "# subplotを使用して各変数と目的変数の関係を確認\n",
    "#グラフの表示\n",
    "plt.figure(figsize=(12, 12)) # figsizeでグラフの大きさを指定\n",
    "for ncol, colname in enumerate(df_numeric.columns):\n",
    "    plt.subplot(3, 3, ncol+1) # 3行3列のグラフのn+1番目に描画\n",
    "    sns.histplot(df_tmp.query('disease == 0')[colname], color='blue', label='non', alpha=0.3, kde=True)\n",
    "    sns.histplot(df_tmp.query('disease == 1')[colname], color='red', label='diseased', alpha=0.3, kde=True)\n",
    "    plt.legend(labels=['non', 'diseased'], loc='upper right')\n",
    "# Alb, AG_ratioは疾患ありの方が左に偏っている"
   ]
  },
  {
   "cell_type": "code",
   "execution_count": 262,
   "metadata": {},
   "outputs": [
    {
     "data": {
      "text/html": [
       "<div>\n",
       "<style scoped>\n",
       "    .dataframe tbody tr th:only-of-type {\n",
       "        vertical-align: middle;\n",
       "    }\n",
       "\n",
       "    .dataframe tbody tr th {\n",
       "        vertical-align: top;\n",
       "    }\n",
       "\n",
       "    .dataframe thead th {\n",
       "        text-align: right;\n",
       "    }\n",
       "</style>\n",
       "<table border=\"1\" class=\"dataframe\">\n",
       "  <thead>\n",
       "    <tr style=\"text-align: right;\">\n",
       "      <th></th>\n",
       "      <th>Age</th>\n",
       "      <th>T_Bil</th>\n",
       "    </tr>\n",
       "  </thead>\n",
       "  <tbody>\n",
       "    <tr>\n",
       "      <th>Age</th>\n",
       "      <td>1.000000</td>\n",
       "      <td>0.033965</td>\n",
       "    </tr>\n",
       "    <tr>\n",
       "      <th>T_Bil</th>\n",
       "      <td>0.033965</td>\n",
       "      <td>1.000000</td>\n",
       "    </tr>\n",
       "  </tbody>\n",
       "</table>\n",
       "</div>"
      ],
      "text/plain": [
       "            Age     T_Bil\n",
       "Age    1.000000  0.033965\n",
       "T_Bil  0.033965  1.000000"
      ]
     },
     "execution_count": 262,
     "metadata": {},
     "output_type": "execute_result"
    }
   ],
   "source": [
    "# 相関係数の確認, 絶対値が1に近いほど相関が強い\n",
    "# AgeとT_Bilの相関係数を確認\n",
    "df[['Age', 'T_Bil']].corr()"
   ]
  },
  {
   "cell_type": "code",
   "execution_count": 263,
   "metadata": {},
   "outputs": [
    {
     "data": {
      "text/html": [
       "<div>\n",
       "<style scoped>\n",
       "    .dataframe tbody tr th:only-of-type {\n",
       "        vertical-align: middle;\n",
       "    }\n",
       "\n",
       "    .dataframe tbody tr th {\n",
       "        vertical-align: top;\n",
       "    }\n",
       "\n",
       "    .dataframe thead th {\n",
       "        text-align: right;\n",
       "    }\n",
       "</style>\n",
       "<table border=\"1\" class=\"dataframe\">\n",
       "  <thead>\n",
       "    <tr style=\"text-align: right;\">\n",
       "      <th></th>\n",
       "      <th>Age</th>\n",
       "      <th>T_Bil</th>\n",
       "      <th>D_Bil</th>\n",
       "      <th>ALP</th>\n",
       "      <th>ALT_GPT</th>\n",
       "      <th>AST_GOT</th>\n",
       "      <th>TP</th>\n",
       "      <th>Alb</th>\n",
       "      <th>AG_ratio</th>\n",
       "      <th>disease</th>\n",
       "    </tr>\n",
       "  </thead>\n",
       "  <tbody>\n",
       "    <tr>\n",
       "      <th>Age</th>\n",
       "      <td>1.000000</td>\n",
       "      <td>0.033965</td>\n",
       "      <td>0.030999</td>\n",
       "      <td>0.060460</td>\n",
       "      <td>-0.059396</td>\n",
       "      <td>-0.003819</td>\n",
       "      <td>-0.228393</td>\n",
       "      <td>-0.281486</td>\n",
       "      <td>-0.177030</td>\n",
       "      <td>0.161895</td>\n",
       "    </tr>\n",
       "    <tr>\n",
       "      <th>T_Bil</th>\n",
       "      <td>0.033965</td>\n",
       "      <td>1.000000</td>\n",
       "      <td>0.881271</td>\n",
       "      <td>0.236756</td>\n",
       "      <td>0.241730</td>\n",
       "      <td>0.260367</td>\n",
       "      <td>-0.016766</td>\n",
       "      <td>-0.227373</td>\n",
       "      <td>-0.281890</td>\n",
       "      <td>0.315357</td>\n",
       "    </tr>\n",
       "    <tr>\n",
       "      <th>D_Bil</th>\n",
       "      <td>0.030999</td>\n",
       "      <td>0.881271</td>\n",
       "      <td>1.000000</td>\n",
       "      <td>0.264557</td>\n",
       "      <td>0.261488</td>\n",
       "      <td>0.280029</td>\n",
       "      <td>-0.010099</td>\n",
       "      <td>-0.233630</td>\n",
       "      <td>-0.292797</td>\n",
       "      <td>0.340468</td>\n",
       "    </tr>\n",
       "    <tr>\n",
       "      <th>ALP</th>\n",
       "      <td>0.060460</td>\n",
       "      <td>0.236756</td>\n",
       "      <td>0.264557</td>\n",
       "      <td>1.000000</td>\n",
       "      <td>0.147286</td>\n",
       "      <td>0.183362</td>\n",
       "      <td>-0.025860</td>\n",
       "      <td>-0.177643</td>\n",
       "      <td>-0.247580</td>\n",
       "      <td>0.245491</td>\n",
       "    </tr>\n",
       "    <tr>\n",
       "      <th>ALT_GPT</th>\n",
       "      <td>-0.059396</td>\n",
       "      <td>0.241730</td>\n",
       "      <td>0.261488</td>\n",
       "      <td>0.147286</td>\n",
       "      <td>1.000000</td>\n",
       "      <td>0.795303</td>\n",
       "      <td>-0.034923</td>\n",
       "      <td>-0.041113</td>\n",
       "      <td>-0.023351</td>\n",
       "      <td>0.212509</td>\n",
       "    </tr>\n",
       "    <tr>\n",
       "      <th>AST_GOT</th>\n",
       "      <td>-0.003819</td>\n",
       "      <td>0.260367</td>\n",
       "      <td>0.280029</td>\n",
       "      <td>0.183362</td>\n",
       "      <td>0.795303</td>\n",
       "      <td>1.000000</td>\n",
       "      <td>-0.024031</td>\n",
       "      <td>-0.092083</td>\n",
       "      <td>-0.093665</td>\n",
       "      <td>0.199098</td>\n",
       "    </tr>\n",
       "    <tr>\n",
       "      <th>TP</th>\n",
       "      <td>-0.228393</td>\n",
       "      <td>-0.016766</td>\n",
       "      <td>-0.010099</td>\n",
       "      <td>-0.025860</td>\n",
       "      <td>-0.034923</td>\n",
       "      <td>-0.024031</td>\n",
       "      <td>1.000000</td>\n",
       "      <td>0.793025</td>\n",
       "      <td>0.207798</td>\n",
       "      <td>-0.048625</td>\n",
       "    </tr>\n",
       "    <tr>\n",
       "      <th>Alb</th>\n",
       "      <td>-0.281486</td>\n",
       "      <td>-0.227373</td>\n",
       "      <td>-0.233630</td>\n",
       "      <td>-0.177643</td>\n",
       "      <td>-0.041113</td>\n",
       "      <td>-0.092083</td>\n",
       "      <td>0.793025</td>\n",
       "      <td>1.000000</td>\n",
       "      <td>0.732303</td>\n",
       "      <td>-0.202018</td>\n",
       "    </tr>\n",
       "    <tr>\n",
       "      <th>AG_ratio</th>\n",
       "      <td>-0.177030</td>\n",
       "      <td>-0.281890</td>\n",
       "      <td>-0.292797</td>\n",
       "      <td>-0.247580</td>\n",
       "      <td>-0.023351</td>\n",
       "      <td>-0.093665</td>\n",
       "      <td>0.207798</td>\n",
       "      <td>0.732303</td>\n",
       "      <td>1.000000</td>\n",
       "      <td>-0.277248</td>\n",
       "    </tr>\n",
       "    <tr>\n",
       "      <th>disease</th>\n",
       "      <td>0.161895</td>\n",
       "      <td>0.315357</td>\n",
       "      <td>0.340468</td>\n",
       "      <td>0.245491</td>\n",
       "      <td>0.212509</td>\n",
       "      <td>0.199098</td>\n",
       "      <td>-0.048625</td>\n",
       "      <td>-0.202018</td>\n",
       "      <td>-0.277248</td>\n",
       "      <td>1.000000</td>\n",
       "    </tr>\n",
       "  </tbody>\n",
       "</table>\n",
       "</div>"
      ],
      "text/plain": [
       "               Age     T_Bil     D_Bil       ALP   ALT_GPT   AST_GOT  \\\n",
       "Age       1.000000  0.033965  0.030999  0.060460 -0.059396 -0.003819   \n",
       "T_Bil     0.033965  1.000000  0.881271  0.236756  0.241730  0.260367   \n",
       "D_Bil     0.030999  0.881271  1.000000  0.264557  0.261488  0.280029   \n",
       "ALP       0.060460  0.236756  0.264557  1.000000  0.147286  0.183362   \n",
       "ALT_GPT  -0.059396  0.241730  0.261488  0.147286  1.000000  0.795303   \n",
       "AST_GOT  -0.003819  0.260367  0.280029  0.183362  0.795303  1.000000   \n",
       "TP       -0.228393 -0.016766 -0.010099 -0.025860 -0.034923 -0.024031   \n",
       "Alb      -0.281486 -0.227373 -0.233630 -0.177643 -0.041113 -0.092083   \n",
       "AG_ratio -0.177030 -0.281890 -0.292797 -0.247580 -0.023351 -0.093665   \n",
       "disease   0.161895  0.315357  0.340468  0.245491  0.212509  0.199098   \n",
       "\n",
       "                TP       Alb  AG_ratio   disease  \n",
       "Age      -0.228393 -0.281486 -0.177030  0.161895  \n",
       "T_Bil    -0.016766 -0.227373 -0.281890  0.315357  \n",
       "D_Bil    -0.010099 -0.233630 -0.292797  0.340468  \n",
       "ALP      -0.025860 -0.177643 -0.247580  0.245491  \n",
       "ALT_GPT  -0.034923 -0.041113 -0.023351  0.212509  \n",
       "AST_GOT  -0.024031 -0.092083 -0.093665  0.199098  \n",
       "TP        1.000000  0.793025  0.207798 -0.048625  \n",
       "Alb       0.793025  1.000000  0.732303 -0.202018  \n",
       "AG_ratio  0.207798  0.732303  1.000000 -0.277248  \n",
       "disease  -0.048625 -0.202018 -0.277248  1.000000  "
      ]
     },
     "execution_count": 263,
     "metadata": {},
     "output_type": "execute_result"
    }
   ],
   "source": [
    "df_tmp.corr() # 全ての変数の相関係数を確認. 数値データのみのデータがdf_tmp"
   ]
  },
  {
   "cell_type": "code",
   "execution_count": 264,
   "metadata": {},
   "outputs": [
    {
     "data": {
      "text/plain": [
       "<Axes: >"
      ]
     },
     "execution_count": 264,
     "metadata": {},
     "output_type": "execute_result"
    },
    {
     "data": {
      "image/png": "[encoded data removed]",
      "text/plain": [
       "<Figure size 1000x800 with 2 Axes>"
      ]
     },
     "metadata": {},
     "output_type": "display_data"
    }
   ],
   "source": [
    "plt.figure(figsize=(10, 8))\n",
    "sns.heatmap(df_tmp.corr(), vmin=-1.0, vmax=1.0, annot=True, cmap='coolwarm', linewidths=0.1) # annot=Trueで数値を表示，cmapで色を指定，linewidthsでグラフの間隔を指定，vmin, vmaxで最小値，最大値を指定"
   ]
  },
  {
   "cell_type": "code",
   "execution_count": 265,
   "metadata": {},
   "outputs": [
    {
     "data": {
      "text/html": [
       "<div>\n",
       "<style scoped>\n",
       "    .dataframe tbody tr th:only-of-type {\n",
       "        vertical-align: middle;\n",
       "    }\n",
       "\n",
       "    .dataframe tbody tr th {\n",
       "        vertical-align: top;\n",
       "    }\n",
       "\n",
       "    .dataframe thead th {\n",
       "        text-align: right;\n",
       "    }\n",
       "</style>\n",
       "<table border=\"1\" class=\"dataframe\">\n",
       "  <thead>\n",
       "    <tr style=\"text-align: right;\">\n",
       "      <th></th>\n",
       "      <th>Age</th>\n",
       "      <th>Gender</th>\n",
       "      <th>T_Bil</th>\n",
       "      <th>D_Bil</th>\n",
       "      <th>ALP</th>\n",
       "      <th>ALT_GPT</th>\n",
       "      <th>AST_GOT</th>\n",
       "      <th>TP</th>\n",
       "      <th>Alb</th>\n",
       "      <th>AG_ratio</th>\n",
       "      <th>disease</th>\n",
       "    </tr>\n",
       "  </thead>\n",
       "  <tbody>\n",
       "    <tr>\n",
       "      <th>0</th>\n",
       "      <td>65</td>\n",
       "      <td>0</td>\n",
       "      <td>1.0</td>\n",
       "      <td>0.2</td>\n",
       "      <td>187</td>\n",
       "      <td>16</td>\n",
       "      <td>18</td>\n",
       "      <td>6.8</td>\n",
       "      <td>3.3</td>\n",
       "      <td>0.92</td>\n",
       "      <td>1</td>\n",
       "    </tr>\n",
       "    <tr>\n",
       "      <th>1</th>\n",
       "      <td>62</td>\n",
       "      <td>1</td>\n",
       "      <td>11.2</td>\n",
       "      <td>5.6</td>\n",
       "      <td>699</td>\n",
       "      <td>64</td>\n",
       "      <td>100</td>\n",
       "      <td>7.5</td>\n",
       "      <td>3.2</td>\n",
       "      <td>0.73</td>\n",
       "      <td>1</td>\n",
       "    </tr>\n",
       "    <tr>\n",
       "      <th>2</th>\n",
       "      <td>62</td>\n",
       "      <td>1</td>\n",
       "      <td>7.6</td>\n",
       "      <td>4.2</td>\n",
       "      <td>490</td>\n",
       "      <td>60</td>\n",
       "      <td>68</td>\n",
       "      <td>7.0</td>\n",
       "      <td>3.3</td>\n",
       "      <td>0.87</td>\n",
       "      <td>1</td>\n",
       "    </tr>\n",
       "    <tr>\n",
       "      <th>3</th>\n",
       "      <td>58</td>\n",
       "      <td>1</td>\n",
       "      <td>1.3</td>\n",
       "      <td>0.5</td>\n",
       "      <td>182</td>\n",
       "      <td>14</td>\n",
       "      <td>20</td>\n",
       "      <td>6.8</td>\n",
       "      <td>3.4</td>\n",
       "      <td>0.98</td>\n",
       "      <td>1</td>\n",
       "    </tr>\n",
       "    <tr>\n",
       "      <th>4</th>\n",
       "      <td>72</td>\n",
       "      <td>1</td>\n",
       "      <td>4.2</td>\n",
       "      <td>2.1</td>\n",
       "      <td>195</td>\n",
       "      <td>27</td>\n",
       "      <td>59</td>\n",
       "      <td>7.3</td>\n",
       "      <td>2.4</td>\n",
       "      <td>0.48</td>\n",
       "      <td>1</td>\n",
       "    </tr>\n",
       "  </tbody>\n",
       "</table>\n",
       "</div>"
      ],
      "text/plain": [
       "   Age  Gender  T_Bil  D_Bil  ALP  ALT_GPT  AST_GOT   TP  Alb  AG_ratio  \\\n",
       "0   65       0    1.0    0.2  187       16       18  6.8  3.3      0.92   \n",
       "1   62       1   11.2    5.6  699       64      100  7.5  3.2      0.73   \n",
       "2   62       1    7.6    4.2  490       60       68  7.0  3.3      0.87   \n",
       "3   58       1    1.3    0.5  182       14       20  6.8  3.4      0.98   \n",
       "4   72       1    4.2    2.1  195       27       59  7.3  2.4      0.48   \n",
       "\n",
       "   disease  \n",
       "0        1  \n",
       "1        1  \n",
       "2        1  \n",
       "3        1  \n",
       "4        1  "
      ]
     },
     "execution_count": 265,
     "metadata": {},
     "output_type": "execute_result"
    }
   ],
   "source": [
    "# カテゴリ変数を数値に変換\n",
    "# ラベルエンコーディングする方が早いきがするが，今回は無名関数を使用\n",
    "df['Gender'] = df['Gender'].apply(lambda x : 1 if x=='Male' else 0) # Maleを1，Femaleを0に変換\n",
    "# apply関数はSeriesの各要素に関数を適用する関数\n",
    "df.head(5)"
   ]
  },
  {
   "cell_type": "code",
   "execution_count": 266,
   "metadata": {},
   "outputs": [
    {
     "name": "stdout",
     "output_type": "stream",
     "text": [
      "     Age  Gender  T_Bil  D_Bil  ALP  ALT_GPT  AST_GOT   TP  Alb  AG_ratio\n",
      "0     65       0    1.0    0.2  187       16       18  6.8  3.3      0.92\n",
      "1     62       1   11.2    5.6  699       64      100  7.5  3.2      0.73\n",
      "2     62       1    7.6    4.2  490       60       68  7.0  3.3      0.87\n",
      "3     58       1    1.3    0.5  182       14       20  6.8  3.4      0.98\n",
      "4     72       1    4.2    2.1  195       27       59  7.3  2.4      0.48\n",
      "..   ...     ...    ...    ...  ...      ...      ...  ...  ...       ...\n",
      "785   34       1    1.9    1.0  222       35      133  6.1  2.8      0.86\n",
      "786   29       0    0.7    0.2  159       26       24  6.6  3.6      1.20\n",
      "787   21       1    0.8    0.2  184       33       56  6.9  3.6      1.08\n",
      "788   40       1    0.8    0.2  191       28       20  6.1  3.1      1.04\n",
      "789   61       1    0.6    0.1  188       20       21  6.2  3.3      1.17\n",
      "\n",
      "[790 rows x 10 columns]\n",
      "0      1\n",
      "1      1\n",
      "2      1\n",
      "3      1\n",
      "4      1\n",
      "      ..\n",
      "785    0\n",
      "786    0\n",
      "787    0\n",
      "788    0\n",
      "789    0\n",
      "Name: disease, Length: 790, dtype: int64\n"
     ]
    }
   ],
   "source": [
    "# 説明変数と目的変数に分ける\n",
    "X = df.drop('disease', axis=1) # 説明変数\n",
    "y = df['disease'] # 目的変数\n",
    "print(X)\n",
    "print(y)"
   ]
  },
  {
   "cell_type": "code",
   "execution_count": 267,
   "metadata": {},
   "outputs": [
    {
     "name": "stdout",
     "output_type": "stream",
     "text": [
      "(553, 10)\n",
      "(237, 10)\n"
     ]
    }
   ],
   "source": [
    "from sklearn.model_selection import train_test_split # データを学習用とテスト用に分割する関数\n",
    "X_train, X_test, y_train, y_test = train_test_split(X, y, test_size=0.3, random_state=42) # test_sizeでテストデータの割合を指定，random_stateで乱数のシードを指定\n",
    "print(X_train.shape)\n",
    "print(X_test.shape)"
   ]
  },
  {
   "cell_type": "markdown",
   "metadata": {},
   "source": [
    "モデルで予測"
   ]
  },
  {
   "cell_type": "code",
   "execution_count": 268,
   "metadata": {},
   "outputs": [],
   "source": [
    "# ロジスティック回帰\n",
    "from sklearn.linear_model import LogisticRegression # ロジスティック回帰のモデル\n",
    "lr = LogisticRegression() # モデルのインスタンス化"
   ]
  },
  {
   "cell_type": "code",
   "execution_count": 269,
   "metadata": {},
   "outputs": [],
   "source": [
    "lr.fit(X_train, y_train) # 学習\n",
    "y_pred = lr.predict(X_test) # 予測\n"
   ]
  },
  {
   "cell_type": "code",
   "execution_count": 270,
   "metadata": {},
   "outputs": [
    {
     "data": {
      "text/plain": [
       "100"
      ]
     },
     "execution_count": 270,
     "metadata": {},
     "output_type": "execute_result"
    }
   ],
   "source": [
    "# 疾患ありと予測されたデータの数\n",
    "sum(y_pred)"
   ]
  },
  {
   "cell_type": "code",
   "execution_count": 271,
   "metadata": {},
   "outputs": [
    {
     "data": {
      "text/plain": [
       "array([[0.82879655, 0.17120345],\n",
       "       [0.00355737, 0.99644263],\n",
       "       [0.27325789, 0.72674211],\n",
       "       [0.30557606, 0.69442394],\n",
       "       [0.66438499, 0.33561501]])"
      ]
     },
     "execution_count": 271,
     "metadata": {},
     "output_type": "execute_result"
    }
   ],
   "source": [
    "# 確率を出力\n",
    "y_pred_proba = lr.predict_proba(X_test) # 確率を出力\n",
    "y_pred_proba[:5] # 疾患ありの確率と疾患なしの確率が出力される"
   ]
  },
  {
   "cell_type": "code",
   "execution_count": 272,
   "metadata": {},
   "outputs": [
    {
     "data": {
      "text/plain": [
       "array([0.17120345, 0.99644263, 0.72674211, 0.69442394, 0.33561501])"
      ]
     },
     "execution_count": 272,
     "metadata": {},
     "output_type": "execute_result"
    }
   ],
   "source": [
    "# 疾患ありとなる確率\n",
    "y_pred_proba_1 = y_pred_proba[:, 1] # 1列目の確率を出力\n",
    "y_pred_proba_1[:5]"
   ]
  },
  {
   "cell_type": "code",
   "execution_count": 273,
   "metadata": {},
   "outputs": [
    {
     "name": "stdout",
     "output_type": "stream",
     "text": [
      "100\n",
      "61\n"
     ]
    }
   ],
   "source": [
    "print(sum(y_pred_proba_1 > 0.5)) # 疾患ありとなる確率が0.5以上のデータの数\n",
    "print(sum(y_pred_proba_1 > 0.7)) # 疾患ありとなる確率が0.7以上のデータの数"
   ]
  },
  {
   "cell_type": "code",
   "execution_count": 274,
   "metadata": {},
   "outputs": [
    {
     "data": {
      "text/plain": [
       "array([[93, 27],\n",
       "       [44, 73]])"
      ]
     },
     "execution_count": 274,
     "metadata": {},
     "output_type": "execute_result"
    }
   ],
   "source": [
    "# 混同行列の作成\n",
    "from sklearn.metrics import confusion_matrix # 混同行列を作成する関数\n",
    "df_cm = confusion_matrix(y_test, y_pred) # 混同行列を作成\n",
    "df_cm"
   ]
  },
  {
   "cell_type": "code",
   "execution_count": 275,
   "metadata": {},
   "outputs": [
    {
     "data": {
      "text/plain": [
       "(array([0.5, 1.5]), [Text(0, 0.5, '0'), Text(0, 1.5, '1')])"
      ]
     },
     "execution_count": 275,
     "metadata": {},
     "output_type": "execute_result"
    },
    {
     "data": {
      "image/png": "[encoded data removed]",
      "text/plain": [
       "<Figure size 640x480 with 2 Axes>"
      ]
     },
     "metadata": {},
     "output_type": "display_data"
    }
   ],
   "source": [
    "sns.heatmap(df_cm, annot=True, fmt='2g', cmap='Blues') # fmtで表示する数値の桁数を指定. 2gは小数点以下2桁まで表示\n",
    "plt.yticks(va='top') # y軸の表示位置を中央に指定"
   ]
  },
  {
   "cell_type": "markdown",
   "metadata": {},
   "source": [
    "ROC曲線，AUC計算<br>\n",
    "ROC曲線：閾値（疾患の有無を判断する基準値）を変化させたときの偽陽性率と真陽性率（再現率）の各点を結んだもの．<br>\n",
    "偽陽性率：FPR(FP/(FP+TN))<br>\n",
    "真陽性率：TPR(TP/(TP+FN))<br>\n",
    "AUC(Area Under the Curve): ROC曲線とx軸とy軸で囲まれた面積<br>\n",
    "AUCは面積が大きいほど良いモデル"
   ]
  },
  {
   "cell_type": "code",
   "execution_count": 276,
   "metadata": {},
   "outputs": [],
   "source": [
    "# 前のタスクでもみた通り，predict関数ではデフォルトが0.5に設定されている．\n",
    "# 当然閾値を変化させればモデルの予測結果も変わる．\n",
    "# 閾値を高い値に設定する，実際は疾患ありでも見逃してしまうケースが多くなる．\n",
    "# 今回のタスクのような疾患ありの方を見逃すと大変なことになるので，多少疾患なしの方を疾患ありと予測してしまっても良いと考える．\n",
    "# 閾値を低すぎる値に設定してしまうと実際に疾患リスクなしの人にまで過剰に反応してしまうため，役に立たないモデルになってしまう．"
   ]
  },
  {
   "cell_type": "code",
   "execution_count": 277,
   "metadata": {},
   "outputs": [
    {
     "name": "stdout",
     "output_type": "stream",
     "text": [
      "0.8186609686609686\n"
     ]
    }
   ],
   "source": [
    "from sklearn.metrics import roc_auc_score, roc_curve # ROC曲線を描画する関数\n",
    "auc_score = roc_auc_score(y_true = y_test, y_score = y_pred_proba_1) # AUCを計算，y_scoreには疾患ありの確率を入力\n",
    "print(auc_score)"
   ]
  },
  {
   "cell_type": "code",
   "execution_count": 278,
   "metadata": {},
   "outputs": [
    {
     "data": {
      "text/plain": [
       "Text(0, 0.5, 'true positive rate')"
      ]
     },
     "execution_count": 278,
     "metadata": {},
     "output_type": "execute_result"
    },
    {
     "data": {
      "image/png": "[encoded data removed]",
      "text/plain": [
       "<Figure size 640x480 with 1 Axes>"
      ]
     },
     "metadata": {},
     "output_type": "display_data"
    }
   ],
   "source": [
    "# ROC曲線を描画\n",
    "fpr, tpr, thresholds = roc_curve(y_true = y_test, y_score = y_pred_proba_1) # fprは偽陽性率，tprは真陽性率，thresholdsは閾値\n",
    "plt.plot(fpr, tpr, label='ROC curve (area = %.2f)'%auc_score) # ROC曲線を描画\n",
    "plt.plot([0, 1], [0, 1], linestyle=':', label='random') # 第一引数がx軸，第二引数がy軸\n",
    "plt.plot([0, 0, 1], [0, 1, 1], linestyle=':', label='ideal') \n",
    "plt.legend()\n",
    "plt.xlabel('false positive rate')\n",
    "plt.ylabel('true positive rate')"
   ]
  },
  {
   "cell_type": "markdown",
   "metadata": {},
   "source": [
    "予測精度改善のための方策例\n",
    "1. データ量を変える\n",
    "2. アルゴリズム変更・ハイパラチューニング\n",
    "3. 特徴量を増やす・減らす\n",
    "> 特徴量を作る：集約など<br>\n",
    "特徴量を選ぶ：特徴量が多すぎると過学習になるリスクがある．"
   ]
  },
  {
   "cell_type": "markdown",
   "metadata": {},
   "source": [
    "特徴量作成"
   ]
  },
  {
   "cell_type": "markdown",
   "metadata": {},
   "source": [
    "ビニング（binning）：連続値をビンと呼ばれる離散値に置き換える処理（ある変数の値を複数の区分に分割することで新しい特徴量を作成）"
   ]
  },
  {
   "cell_type": "code",
   "execution_count": 279,
   "metadata": {},
   "outputs": [
    {
     "name": "stdout",
     "output_type": "stream",
     "text": [
      "binの区切り:  [ 0.4252 15.46   30.42   45.38   60.34   75.3   ]\n",
      "bin区切りごとのデータ数: \n",
      "\n",
      "T_Bil\n",
      "(0.425, 15.46]    756\n",
      "(15.46, 30.42]     28\n",
      "(30.42, 45.38]      5\n",
      "(60.34, 75.3]       1\n",
      "(45.38, 60.34]      0\n",
      "Name: count, dtype: int64\n"
     ]
    }
   ],
   "source": [
    "# ビニングを行う\n",
    "# T_Bilを等間隔に5等分したbinに変換\n",
    "X_cut, bin_indice = pd.cut(X['T_Bil'], bins=5, retbins=True) # bins=5でデータの最小から最大までを５等分，retbins=Trueでbinの境界値を返す \n",
    "print('binの区切り: ', bin_indice)\n",
    "print('bin区切りごとのデータ数: \\n')\n",
    "print(X_cut.value_counts())\n",
    "# T_Bilを5等分するとほとんどのデータが同じビンに入ってしまう\n",
    "# (0.425, 15.46]は0.425より大きく15.46以下のデータを意味する"
   ]
  },
  {
   "cell_type": "code",
   "execution_count": 280,
   "metadata": {},
   "outputs": [
    {
     "name": "stdout",
     "output_type": "stream",
     "text": [
      "binの区切り:  [  0.    0.5   1.  100. ]\n",
      "bin区切りごとのデータ数: \n",
      "\n",
      "T_Bil\n",
      "(1.0, 100.0]    441\n",
      "(0.5, 1.0]      344\n",
      "(0.0, 0.5]        5\n",
      "Name: count, dtype: int64\n"
     ]
    }
   ],
   "source": [
    "# 左によっているため，ビニングの境界値を変更\n",
    "bins_T_Bil = [0, 0.5, 1.0, 100] # ビンの境界値を指定\n",
    "X_cut, bin_indice = pd.cut(X['T_Bil'], bins=bins_T_Bil, retbins=True) # bins=[]とリストを入れることで境界値を指定，retbins=Trueでbinの境界値を返す \n",
    "print('binの区切り: ', bin_indice)\n",
    "print('bin区切りごとのデータ数: \\n')\n",
    "print(X_cut.value_counts())\n",
    "# T_Bilを5等分するとほとんどのデータが同じビンに入ってしまう\n",
    "# (0.425, 15.46]は0.425より大きく15.46以下のデータを意味する"
   ]
  },
  {
   "cell_type": "code",
   "execution_count": 281,
   "metadata": {},
   "outputs": [
    {
     "name": "stdout",
     "output_type": "stream",
     "text": [
      "bin区切りごとのデータ数: \n",
      "\n",
      "T_Bil\n",
      "2    441\n",
      "1    344\n",
      "0      5\n",
      "Name: count, dtype: int64\n"
     ]
    }
   ],
   "source": [
    "# binのダミー変数化\n",
    "bins_T_Bil = [0, 0.5, 1.0, 100] # ビンの境界値を指定\n",
    "X_cut, bin_indice = pd.cut(X['T_Bil'], bins=bins_T_Bil, retbins=True, labels=False) # labels=Falseでビンの番号を返す\n",
    "print('bin区切りごとのデータ数: \\n')\n",
    "print(X_cut.value_counts())\n",
    "# labels=Falseでビンの番号を返す"
   ]
  },
  {
   "cell_type": "code",
   "execution_count": 282,
   "metadata": {},
   "outputs": [
    {
     "data": {
      "text/html": [
       "<div>\n",
       "<style scoped>\n",
       "    .dataframe tbody tr th:only-of-type {\n",
       "        vertical-align: middle;\n",
       "    }\n",
       "\n",
       "    .dataframe tbody tr th {\n",
       "        vertical-align: top;\n",
       "    }\n",
       "\n",
       "    .dataframe thead th {\n",
       "        text-align: right;\n",
       "    }\n",
       "</style>\n",
       "<table border=\"1\" class=\"dataframe\">\n",
       "  <thead>\n",
       "    <tr style=\"text-align: right;\">\n",
       "      <th></th>\n",
       "      <th>T_Bil_0</th>\n",
       "      <th>T_Bil_1</th>\n",
       "      <th>T_Bil_2</th>\n",
       "    </tr>\n",
       "  </thead>\n",
       "  <tbody>\n",
       "    <tr>\n",
       "      <th>0</th>\n",
       "      <td>False</td>\n",
       "      <td>True</td>\n",
       "      <td>False</td>\n",
       "    </tr>\n",
       "    <tr>\n",
       "      <th>1</th>\n",
       "      <td>False</td>\n",
       "      <td>False</td>\n",
       "      <td>True</td>\n",
       "    </tr>\n",
       "    <tr>\n",
       "      <th>2</th>\n",
       "      <td>False</td>\n",
       "      <td>False</td>\n",
       "      <td>True</td>\n",
       "    </tr>\n",
       "    <tr>\n",
       "      <th>3</th>\n",
       "      <td>False</td>\n",
       "      <td>False</td>\n",
       "      <td>True</td>\n",
       "    </tr>\n",
       "    <tr>\n",
       "      <th>4</th>\n",
       "      <td>False</td>\n",
       "      <td>False</td>\n",
       "      <td>True</td>\n",
       "    </tr>\n",
       "  </tbody>\n",
       "</table>\n",
       "</div>"
      ],
      "text/plain": [
       "   T_Bil_0  T_Bil_1  T_Bil_2\n",
       "0    False     True    False\n",
       "1    False    False     True\n",
       "2    False    False     True\n",
       "3    False    False     True\n",
       "4    False    False     True"
      ]
     },
     "execution_count": 282,
     "metadata": {},
     "output_type": "execute_result"
    }
   ],
   "source": [
    "# bin分割した結果をダミー変数化\n",
    "X_dummies = pd.get_dummies(X_cut, prefix=X_cut.name) # prefixで列名の接頭辞を指定, prefixがないと列名が0, 1, 2になる\n",
    "X_dummies.head(5)"
   ]
  },
  {
   "cell_type": "code",
   "execution_count": 283,
   "metadata": {},
   "outputs": [
    {
     "data": {
      "text/html": [
       "<div>\n",
       "<style scoped>\n",
       "    .dataframe tbody tr th:only-of-type {\n",
       "        vertical-align: middle;\n",
       "    }\n",
       "\n",
       "    .dataframe tbody tr th {\n",
       "        vertical-align: top;\n",
       "    }\n",
       "\n",
       "    .dataframe thead th {\n",
       "        text-align: right;\n",
       "    }\n",
       "</style>\n",
       "<table border=\"1\" class=\"dataframe\">\n",
       "  <thead>\n",
       "    <tr style=\"text-align: right;\">\n",
       "      <th></th>\n",
       "      <th>Age</th>\n",
       "      <th>Gender</th>\n",
       "      <th>T_Bil</th>\n",
       "      <th>D_Bil</th>\n",
       "      <th>ALP</th>\n",
       "      <th>ALT_GPT</th>\n",
       "      <th>AST_GOT</th>\n",
       "      <th>TP</th>\n",
       "      <th>Alb</th>\n",
       "      <th>AG_ratio</th>\n",
       "      <th>T_Bil_0</th>\n",
       "      <th>T_Bil_1</th>\n",
       "      <th>T_Bil_2</th>\n",
       "    </tr>\n",
       "  </thead>\n",
       "  <tbody>\n",
       "    <tr>\n",
       "      <th>0</th>\n",
       "      <td>65</td>\n",
       "      <td>0</td>\n",
       "      <td>1.0</td>\n",
       "      <td>0.2</td>\n",
       "      <td>187</td>\n",
       "      <td>16</td>\n",
       "      <td>18</td>\n",
       "      <td>6.8</td>\n",
       "      <td>3.3</td>\n",
       "      <td>0.92</td>\n",
       "      <td>False</td>\n",
       "      <td>True</td>\n",
       "      <td>False</td>\n",
       "    </tr>\n",
       "    <tr>\n",
       "      <th>1</th>\n",
       "      <td>62</td>\n",
       "      <td>1</td>\n",
       "      <td>11.2</td>\n",
       "      <td>5.6</td>\n",
       "      <td>699</td>\n",
       "      <td>64</td>\n",
       "      <td>100</td>\n",
       "      <td>7.5</td>\n",
       "      <td>3.2</td>\n",
       "      <td>0.73</td>\n",
       "      <td>False</td>\n",
       "      <td>False</td>\n",
       "      <td>True</td>\n",
       "    </tr>\n",
       "    <tr>\n",
       "      <th>2</th>\n",
       "      <td>62</td>\n",
       "      <td>1</td>\n",
       "      <td>7.6</td>\n",
       "      <td>4.2</td>\n",
       "      <td>490</td>\n",
       "      <td>60</td>\n",
       "      <td>68</td>\n",
       "      <td>7.0</td>\n",
       "      <td>3.3</td>\n",
       "      <td>0.87</td>\n",
       "      <td>False</td>\n",
       "      <td>False</td>\n",
       "      <td>True</td>\n",
       "    </tr>\n",
       "    <tr>\n",
       "      <th>3</th>\n",
       "      <td>58</td>\n",
       "      <td>1</td>\n",
       "      <td>1.3</td>\n",
       "      <td>0.5</td>\n",
       "      <td>182</td>\n",
       "      <td>14</td>\n",
       "      <td>20</td>\n",
       "      <td>6.8</td>\n",
       "      <td>3.4</td>\n",
       "      <td>0.98</td>\n",
       "      <td>False</td>\n",
       "      <td>False</td>\n",
       "      <td>True</td>\n",
       "    </tr>\n",
       "    <tr>\n",
       "      <th>4</th>\n",
       "      <td>72</td>\n",
       "      <td>1</td>\n",
       "      <td>4.2</td>\n",
       "      <td>2.1</td>\n",
       "      <td>195</td>\n",
       "      <td>27</td>\n",
       "      <td>59</td>\n",
       "      <td>7.3</td>\n",
       "      <td>2.4</td>\n",
       "      <td>0.48</td>\n",
       "      <td>False</td>\n",
       "      <td>False</td>\n",
       "      <td>True</td>\n",
       "    </tr>\n",
       "  </tbody>\n",
       "</table>\n",
       "</div>"
      ],
      "text/plain": [
       "   Age  Gender  T_Bil  D_Bil  ALP  ALT_GPT  AST_GOT   TP  Alb  AG_ratio  \\\n",
       "0   65       0    1.0    0.2  187       16       18  6.8  3.3      0.92   \n",
       "1   62       1   11.2    5.6  699       64      100  7.5  3.2      0.73   \n",
       "2   62       1    7.6    4.2  490       60       68  7.0  3.3      0.87   \n",
       "3   58       1    1.3    0.5  182       14       20  6.8  3.4      0.98   \n",
       "4   72       1    4.2    2.1  195       27       59  7.3  2.4      0.48   \n",
       "\n",
       "   T_Bil_0  T_Bil_1  T_Bil_2  \n",
       "0    False     True    False  \n",
       "1    False    False     True  \n",
       "2    False    False     True  \n",
       "3    False    False     True  \n",
       "4    False    False     True  "
      ]
     },
     "execution_count": 283,
     "metadata": {},
     "output_type": "execute_result"
    }
   ],
   "source": [
    "X_binned = pd.concat([X, X_dummies], axis=1) # bin分割した結果を結合\n",
    "X_binned.head(5)"
   ]
  },
  {
   "cell_type": "code",
   "execution_count": 284,
   "metadata": {},
   "outputs": [
    {
     "name": "stdout",
     "output_type": "stream",
     "text": [
      "0.8631766381766381\n"
     ]
    }
   ],
   "source": [
    "# X_dummiesを使用してロジスティック回帰\n",
    "# 精度はAUCで評価\n",
    "X_train, X_test, y_train, y_test = train_test_split(X_binned, y, test_size=0.3, random_state=42) # test_sizeでテストデータの割合を指定，random_stateで乱数のシードを指定\n",
    "lr = LogisticRegression() # モデルのインスタンス化\n",
    "lr.fit(X_train, y_train) # 学習\n",
    "y_pred_proba = lr.predict_proba(X_test) # 確率を出力\n",
    "y_pred_proba_1 = y_pred_proba[:, 1] # 1列目の確率を出力\n",
    "auc_score = roc_auc_score(y_true = y_test, y_score = y_pred_proba_1) # AUCを計算，y_scoreには疾患ありの確率を入力\n",
    "print(auc_score)\n",
    "# 精度が上がった"
   ]
  },
  {
   "cell_type": "code",
   "execution_count": 285,
   "metadata": {},
   "outputs": [
    {
     "data": {
      "text/plain": [
       "Text(0, 0.5, 'true positive rate')"
      ]
     },
     "execution_count": 285,
     "metadata": {},
     "output_type": "execute_result"
    },
    {
     "data": {
      "image/png": "[encoded data removed]",
      "text/plain": [
       "<Figure size 640x480 with 1 Axes>"
      ]
     },
     "metadata": {},
     "output_type": "display_data"
    }
   ],
   "source": [
    "# ROC曲線を描画\n",
    "fpr, tpr, thresholds = roc_curve(y_true = y_test, y_score = y_pred_proba_1) # fprは偽陽性率，tprは真陽性率，thresholdsは閾値\n",
    "plt.plot(fpr, tpr, label='ROC curve (area = %.2f)'%auc_score) # ROC曲線を描画\n",
    "plt.plot([0, 1], [0, 1], linestyle=':', label='random') # 第一引数がx軸，第二引数がy軸\n",
    "plt.plot([0, 0, 1], [0, 1, 1], linestyle=':', label='ideal') \n",
    "plt.legend()\n",
    "plt.xlabel('false positive rate')\n",
    "plt.ylabel('true positive rate')"
   ]
  },
  {
   "cell_type": "markdown",
   "metadata": {},
   "source": [
    "多項式特徴量，交互作用特徴量作成"
   ]
  },
  {
   "cell_type": "code",
   "execution_count": 286,
   "metadata": {},
   "outputs": [
    {
     "name": "stdout",
     "output_type": "stream",
     "text": [
      "[[1 2]\n",
      " [3 4]\n",
      " [5 6]]\n",
      "[[ 1.  2.  1.  2.  4.]\n",
      " [ 3.  4.  9. 12. 16.]\n",
      " [ 5.  6. 25. 30. 36.]]\n"
     ]
    }
   ],
   "source": [
    "# 多項式特徴量，交互作用特徴量の例\n",
    "import numpy as np\n",
    "from sklearn.preprocessing import PolynomialFeatures\n",
    "\n",
    "# サンプルデータ\n",
    "a = np.array([[1, 2], [3, 4], [5, 6]])\n",
    "print(a)\n",
    "# 2次の多項式特徴量と交互作用特徴量を生成\n",
    "poly = PolynomialFeatures(degree=2, include_bias=False) # degreeで次数を指定，include_bias=Trueにすると切片の1を含めたリストになる\n",
    "a_poly = poly.fit_transform(a)\n",
    "\n",
    "print(a_poly) # x1, x2, x1^2, x1x2, x2^2の順に並んでいる．多項式特徴量はx1**2, x2**2の列，交互作用特徴量はx1*x2である"
   ]
  },
  {
   "cell_type": "code",
   "execution_count": 294,
   "metadata": {},
   "outputs": [
    {
     "name": "stdout",
     "output_type": "stream",
     "text": [
      "(790, 9)\n"
     ]
    },
    {
     "data": {
      "text/html": [
       "<div>\n",
       "<style scoped>\n",
       "    .dataframe tbody tr th:only-of-type {\n",
       "        vertical-align: middle;\n",
       "    }\n",
       "\n",
       "    .dataframe tbody tr th {\n",
       "        vertical-align: top;\n",
       "    }\n",
       "\n",
       "    .dataframe thead th {\n",
       "        text-align: right;\n",
       "    }\n",
       "</style>\n",
       "<table border=\"1\" class=\"dataframe\">\n",
       "  <thead>\n",
       "    <tr style=\"text-align: right;\">\n",
       "      <th></th>\n",
       "      <th>Age</th>\n",
       "      <th>T_Bil</th>\n",
       "      <th>D_Bil</th>\n",
       "      <th>ALP</th>\n",
       "      <th>ALT_GPT</th>\n",
       "      <th>AST_GOT</th>\n",
       "      <th>TP</th>\n",
       "      <th>Alb</th>\n",
       "      <th>AG_ratio</th>\n",
       "    </tr>\n",
       "  </thead>\n",
       "  <tbody>\n",
       "    <tr>\n",
       "      <th>0</th>\n",
       "      <td>65</td>\n",
       "      <td>1.0</td>\n",
       "      <td>0.2</td>\n",
       "      <td>187</td>\n",
       "      <td>16</td>\n",
       "      <td>18</td>\n",
       "      <td>6.8</td>\n",
       "      <td>3.3</td>\n",
       "      <td>0.92</td>\n",
       "    </tr>\n",
       "    <tr>\n",
       "      <th>1</th>\n",
       "      <td>62</td>\n",
       "      <td>11.2</td>\n",
       "      <td>5.6</td>\n",
       "      <td>699</td>\n",
       "      <td>64</td>\n",
       "      <td>100</td>\n",
       "      <td>7.5</td>\n",
       "      <td>3.2</td>\n",
       "      <td>0.73</td>\n",
       "    </tr>\n",
       "    <tr>\n",
       "      <th>2</th>\n",
       "      <td>62</td>\n",
       "      <td>7.6</td>\n",
       "      <td>4.2</td>\n",
       "      <td>490</td>\n",
       "      <td>60</td>\n",
       "      <td>68</td>\n",
       "      <td>7.0</td>\n",
       "      <td>3.3</td>\n",
       "      <td>0.87</td>\n",
       "    </tr>\n",
       "    <tr>\n",
       "      <th>3</th>\n",
       "      <td>58</td>\n",
       "      <td>1.3</td>\n",
       "      <td>0.5</td>\n",
       "      <td>182</td>\n",
       "      <td>14</td>\n",
       "      <td>20</td>\n",
       "      <td>6.8</td>\n",
       "      <td>3.4</td>\n",
       "      <td>0.98</td>\n",
       "    </tr>\n",
       "    <tr>\n",
       "      <th>4</th>\n",
       "      <td>72</td>\n",
       "      <td>4.2</td>\n",
       "      <td>2.1</td>\n",
       "      <td>195</td>\n",
       "      <td>27</td>\n",
       "      <td>59</td>\n",
       "      <td>7.3</td>\n",
       "      <td>2.4</td>\n",
       "      <td>0.48</td>\n",
       "    </tr>\n",
       "  </tbody>\n",
       "</table>\n",
       "</div>"
      ],
      "text/plain": [
       "   Age  T_Bil  D_Bil  ALP  ALT_GPT  AST_GOT   TP  Alb  AG_ratio\n",
       "0   65    1.0    0.2  187       16       18  6.8  3.3      0.92\n",
       "1   62   11.2    5.6  699       64      100  7.5  3.2      0.73\n",
       "2   62    7.6    4.2  490       60       68  7.0  3.3      0.87\n",
       "3   58    1.3    0.5  182       14       20  6.8  3.4      0.98\n",
       "4   72    4.2    2.1  195       27       59  7.3  2.4      0.48"
      ]
     },
     "execution_count": 294,
     "metadata": {},
     "output_type": "execute_result"
    }
   ],
   "source": [
    "# 数値変数のみのデータを使用して多項式特徴量と交互作用特徴量を生成\n",
    "print(df_numeric.shape)\n",
    "df_numeric.head(5)"
   ]
  },
  {
   "cell_type": "code",
   "execution_count": 301,
   "metadata": {},
   "outputs": [
    {
     "name": "stdout",
     "output_type": "stream",
     "text": [
      "(790, 54)\n"
     ]
    },
    {
     "data": {
      "text/html": [
       "<div>\n",
       "<style scoped>\n",
       "    .dataframe tbody tr th:only-of-type {\n",
       "        vertical-align: middle;\n",
       "    }\n",
       "\n",
       "    .dataframe tbody tr th {\n",
       "        vertical-align: top;\n",
       "    }\n",
       "\n",
       "    .dataframe thead th {\n",
       "        text-align: right;\n",
       "    }\n",
       "</style>\n",
       "<table border=\"1\" class=\"dataframe\">\n",
       "  <thead>\n",
       "    <tr style=\"text-align: right;\">\n",
       "      <th></th>\n",
       "      <th>poly0</th>\n",
       "      <th>poly1</th>\n",
       "      <th>poly2</th>\n",
       "      <th>poly3</th>\n",
       "      <th>poly4</th>\n",
       "      <th>poly5</th>\n",
       "      <th>poly6</th>\n",
       "      <th>poly7</th>\n",
       "      <th>poly8</th>\n",
       "      <th>poly9</th>\n",
       "      <th>...</th>\n",
       "      <th>poly44</th>\n",
       "      <th>poly45</th>\n",
       "      <th>poly46</th>\n",
       "      <th>poly47</th>\n",
       "      <th>poly48</th>\n",
       "      <th>poly49</th>\n",
       "      <th>poly50</th>\n",
       "      <th>poly51</th>\n",
       "      <th>poly52</th>\n",
       "      <th>poly53</th>\n",
       "    </tr>\n",
       "  </thead>\n",
       "  <tbody>\n",
       "    <tr>\n",
       "      <th>0</th>\n",
       "      <td>65.0</td>\n",
       "      <td>1.0</td>\n",
       "      <td>0.2</td>\n",
       "      <td>187.0</td>\n",
       "      <td>16.0</td>\n",
       "      <td>18.0</td>\n",
       "      <td>6.8</td>\n",
       "      <td>3.3</td>\n",
       "      <td>0.92</td>\n",
       "      <td>4225.0</td>\n",
       "      <td>...</td>\n",
       "      <td>324.0</td>\n",
       "      <td>122.4</td>\n",
       "      <td>59.4</td>\n",
       "      <td>16.56</td>\n",
       "      <td>46.24</td>\n",
       "      <td>22.44</td>\n",
       "      <td>6.256</td>\n",
       "      <td>10.89</td>\n",
       "      <td>3.036</td>\n",
       "      <td>0.8464</td>\n",
       "    </tr>\n",
       "    <tr>\n",
       "      <th>1</th>\n",
       "      <td>62.0</td>\n",
       "      <td>11.2</td>\n",
       "      <td>5.6</td>\n",
       "      <td>699.0</td>\n",
       "      <td>64.0</td>\n",
       "      <td>100.0</td>\n",
       "      <td>7.5</td>\n",
       "      <td>3.2</td>\n",
       "      <td>0.73</td>\n",
       "      <td>3844.0</td>\n",
       "      <td>...</td>\n",
       "      <td>10000.0</td>\n",
       "      <td>750.0</td>\n",
       "      <td>320.0</td>\n",
       "      <td>73.00</td>\n",
       "      <td>56.25</td>\n",
       "      <td>24.00</td>\n",
       "      <td>5.475</td>\n",
       "      <td>10.24</td>\n",
       "      <td>2.336</td>\n",
       "      <td>0.5329</td>\n",
       "    </tr>\n",
       "    <tr>\n",
       "      <th>2</th>\n",
       "      <td>62.0</td>\n",
       "      <td>7.6</td>\n",
       "      <td>4.2</td>\n",
       "      <td>490.0</td>\n",
       "      <td>60.0</td>\n",
       "      <td>68.0</td>\n",
       "      <td>7.0</td>\n",
       "      <td>3.3</td>\n",
       "      <td>0.87</td>\n",
       "      <td>3844.0</td>\n",
       "      <td>...</td>\n",
       "      <td>4624.0</td>\n",
       "      <td>476.0</td>\n",
       "      <td>224.4</td>\n",
       "      <td>59.16</td>\n",
       "      <td>49.00</td>\n",
       "      <td>23.10</td>\n",
       "      <td>6.090</td>\n",
       "      <td>10.89</td>\n",
       "      <td>2.871</td>\n",
       "      <td>0.7569</td>\n",
       "    </tr>\n",
       "    <tr>\n",
       "      <th>3</th>\n",
       "      <td>58.0</td>\n",
       "      <td>1.3</td>\n",
       "      <td>0.5</td>\n",
       "      <td>182.0</td>\n",
       "      <td>14.0</td>\n",
       "      <td>20.0</td>\n",
       "      <td>6.8</td>\n",
       "      <td>3.4</td>\n",
       "      <td>0.98</td>\n",
       "      <td>3364.0</td>\n",
       "      <td>...</td>\n",
       "      <td>400.0</td>\n",
       "      <td>136.0</td>\n",
       "      <td>68.0</td>\n",
       "      <td>19.60</td>\n",
       "      <td>46.24</td>\n",
       "      <td>23.12</td>\n",
       "      <td>6.664</td>\n",
       "      <td>11.56</td>\n",
       "      <td>3.332</td>\n",
       "      <td>0.9604</td>\n",
       "    </tr>\n",
       "    <tr>\n",
       "      <th>4</th>\n",
       "      <td>72.0</td>\n",
       "      <td>4.2</td>\n",
       "      <td>2.1</td>\n",
       "      <td>195.0</td>\n",
       "      <td>27.0</td>\n",
       "      <td>59.0</td>\n",
       "      <td>7.3</td>\n",
       "      <td>2.4</td>\n",
       "      <td>0.48</td>\n",
       "      <td>5184.0</td>\n",
       "      <td>...</td>\n",
       "      <td>3481.0</td>\n",
       "      <td>430.7</td>\n",
       "      <td>141.6</td>\n",
       "      <td>28.32</td>\n",
       "      <td>53.29</td>\n",
       "      <td>17.52</td>\n",
       "      <td>3.504</td>\n",
       "      <td>5.76</td>\n",
       "      <td>1.152</td>\n",
       "      <td>0.2304</td>\n",
       "    </tr>\n",
       "  </tbody>\n",
       "</table>\n",
       "<p>5 rows × 54 columns</p>\n",
       "</div>"
      ],
      "text/plain": [
       "   poly0  poly1  poly2  poly3  poly4  poly5  poly6  poly7  poly8   poly9  ...  \\\n",
       "0   65.0    1.0    0.2  187.0   16.0   18.0    6.8    3.3   0.92  4225.0  ...   \n",
       "1   62.0   11.2    5.6  699.0   64.0  100.0    7.5    3.2   0.73  3844.0  ...   \n",
       "2   62.0    7.6    4.2  490.0   60.0   68.0    7.0    3.3   0.87  3844.0  ...   \n",
       "3   58.0    1.3    0.5  182.0   14.0   20.0    6.8    3.4   0.98  3364.0  ...   \n",
       "4   72.0    4.2    2.1  195.0   27.0   59.0    7.3    2.4   0.48  5184.0  ...   \n",
       "\n",
       "    poly44  poly45  poly46  poly47  poly48  poly49  poly50  poly51  poly52  \\\n",
       "0    324.0   122.4    59.4   16.56   46.24   22.44   6.256   10.89   3.036   \n",
       "1  10000.0   750.0   320.0   73.00   56.25   24.00   5.475   10.24   2.336   \n",
       "2   4624.0   476.0   224.4   59.16   49.00   23.10   6.090   10.89   2.871   \n",
       "3    400.0   136.0    68.0   19.60   46.24   23.12   6.664   11.56   3.332   \n",
       "4   3481.0   430.7   141.6   28.32   53.29   17.52   3.504    5.76   1.152   \n",
       "\n",
       "   poly53  \n",
       "0  0.8464  \n",
       "1  0.5329  \n",
       "2  0.7569  \n",
       "3  0.9604  \n",
       "4  0.2304  \n",
       "\n",
       "[5 rows x 54 columns]"
      ]
     },
     "execution_count": 301,
     "metadata": {},
     "output_type": "execute_result"
    }
   ],
   "source": [
    "from sklearn.preprocessing import PolynomialFeatures\n",
    "poly = PolynomialFeatures(degree=2, include_bias=False) # degreeで次数を指定，include_bias=Trueにすると切片の1を含めたリストになる\n",
    "df_numeric_poly_arr = poly.fit_transform(df_numeric) # 多項式特徴量と交互作用特徴量を生成, nd.arrayで返ってくる\n",
    "# データフレーム化\n",
    "df_numeric_poly = pd.DataFrame(df_numeric_poly_arr, columns=['poly'+ str(x) for x in range(df_numeric_poly_arr.shape[1])]) # get_feature_namesで列名を取得\n",
    "print(df_numeric_poly.shape) # 9次元から45次元に増えている\n",
    "df_numeric_poly.head(5)\n",
    "# 2次の多項式特徴量と交互作用特徴量を生成で54列の特徴量ができた．"
   ]
  },
  {
   "cell_type": "code",
   "execution_count": 302,
   "metadata": {},
   "outputs": [],
   "source": [
    "# 生成した特徴量の中には目的変数との関連性が低く，ノイズとなっている特徴量もある．\n",
    "# 特徴量を削る特徴量選択の方法を行う．\n",
    "# 今回はモデルが自動で重要な特徴量を選択してくれる組み込み法を使用する．\n",
    "# ロジスティック回帰のモデルを使用する．\n",
    "from sklearn.feature_selection import SelectFromModel # 組み込み法のクラス\n",
    "from sklearn.linear_model import LogisticRegression # ロジスティック回帰のモデル\n",
    "# 組み込み法に使うモデルの指定\n",
    "fs_model = LogisticRegression(penalty='l1', solver='liblinear', random_state=42) # penaltyで正則化の種類を指定，solverで最適化のアルゴリズムを指定\n",
    "# solverは誤差を最小化するための関数の種類\n",
    "# 注意点としては最適化関数の種類によっては使用できる正則化の種類が限られる\n",
    "# penalty='l1'の時はsolver='liblinear'が使用可能\n",
    "# penalty='l2'の時はsolver='lbfgs'のように\n",
    "# fs_threshold = 'median' # 特徴量選択の閾値の指定, 中央値を基準に特徴量を選択\n",
    "fs_threshold = 'mean'\n",
    "# 組み込み法モデルの初期化\n",
    "selector = SelectFromModel(fs_model, threshold=fs_threshold) # thresholdで閾値を指定"
   ]
  },
  {
   "cell_type": "code",
   "execution_count": 311,
   "metadata": {},
   "outputs": [
    {
     "name": "stdout",
     "output_type": "stream",
     "text": [
      "(790, 12)\n"
     ]
    },
    {
     "data": {
      "text/html": [
       "<div>\n",
       "<style scoped>\n",
       "    .dataframe tbody tr th:only-of-type {\n",
       "        vertical-align: middle;\n",
       "    }\n",
       "\n",
       "    .dataframe tbody tr th {\n",
       "        vertical-align: top;\n",
       "    }\n",
       "\n",
       "    .dataframe thead th {\n",
       "        text-align: right;\n",
       "    }\n",
       "</style>\n",
       "<table border=\"1\" class=\"dataframe\">\n",
       "  <thead>\n",
       "    <tr style=\"text-align: right;\">\n",
       "      <th></th>\n",
       "      <th>poly1</th>\n",
       "      <th>poly2</th>\n",
       "      <th>poly6</th>\n",
       "      <th>poly7</th>\n",
       "      <th>poly8</th>\n",
       "      <th>poly23</th>\n",
       "      <th>poly24</th>\n",
       "      <th>poly25</th>\n",
       "      <th>poly26</th>\n",
       "      <th>poly32</th>\n",
       "      <th>poly50</th>\n",
       "      <th>poly52</th>\n",
       "    </tr>\n",
       "  </thead>\n",
       "  <tbody>\n",
       "    <tr>\n",
       "      <th>0</th>\n",
       "      <td>1.0</td>\n",
       "      <td>0.2</td>\n",
       "      <td>6.8</td>\n",
       "      <td>3.3</td>\n",
       "      <td>0.92</td>\n",
       "      <td>6.80</td>\n",
       "      <td>3.30</td>\n",
       "      <td>0.920</td>\n",
       "      <td>0.04</td>\n",
       "      <td>0.184</td>\n",
       "      <td>6.256</td>\n",
       "      <td>3.036</td>\n",
       "    </tr>\n",
       "    <tr>\n",
       "      <th>1</th>\n",
       "      <td>11.2</td>\n",
       "      <td>5.6</td>\n",
       "      <td>7.5</td>\n",
       "      <td>3.2</td>\n",
       "      <td>0.73</td>\n",
       "      <td>84.00</td>\n",
       "      <td>35.84</td>\n",
       "      <td>8.176</td>\n",
       "      <td>31.36</td>\n",
       "      <td>4.088</td>\n",
       "      <td>5.475</td>\n",
       "      <td>2.336</td>\n",
       "    </tr>\n",
       "    <tr>\n",
       "      <th>2</th>\n",
       "      <td>7.6</td>\n",
       "      <td>4.2</td>\n",
       "      <td>7.0</td>\n",
       "      <td>3.3</td>\n",
       "      <td>0.87</td>\n",
       "      <td>53.20</td>\n",
       "      <td>25.08</td>\n",
       "      <td>6.612</td>\n",
       "      <td>17.64</td>\n",
       "      <td>3.654</td>\n",
       "      <td>6.090</td>\n",
       "      <td>2.871</td>\n",
       "    </tr>\n",
       "    <tr>\n",
       "      <th>3</th>\n",
       "      <td>1.3</td>\n",
       "      <td>0.5</td>\n",
       "      <td>6.8</td>\n",
       "      <td>3.4</td>\n",
       "      <td>0.98</td>\n",
       "      <td>8.84</td>\n",
       "      <td>4.42</td>\n",
       "      <td>1.274</td>\n",
       "      <td>0.25</td>\n",
       "      <td>0.490</td>\n",
       "      <td>6.664</td>\n",
       "      <td>3.332</td>\n",
       "    </tr>\n",
       "    <tr>\n",
       "      <th>4</th>\n",
       "      <td>4.2</td>\n",
       "      <td>2.1</td>\n",
       "      <td>7.3</td>\n",
       "      <td>2.4</td>\n",
       "      <td>0.48</td>\n",
       "      <td>30.66</td>\n",
       "      <td>10.08</td>\n",
       "      <td>2.016</td>\n",
       "      <td>4.41</td>\n",
       "      <td>1.008</td>\n",
       "      <td>3.504</td>\n",
       "      <td>1.152</td>\n",
       "    </tr>\n",
       "  </tbody>\n",
       "</table>\n",
       "</div>"
      ],
      "text/plain": [
       "   poly1  poly2  poly6  poly7  poly8  poly23  poly24  poly25  poly26  poly32  \\\n",
       "0    1.0    0.2    6.8    3.3   0.92    6.80    3.30   0.920    0.04   0.184   \n",
       "1   11.2    5.6    7.5    3.2   0.73   84.00   35.84   8.176   31.36   4.088   \n",
       "2    7.6    4.2    7.0    3.3   0.87   53.20   25.08   6.612   17.64   3.654   \n",
       "3    1.3    0.5    6.8    3.4   0.98    8.84    4.42   1.274    0.25   0.490   \n",
       "4    4.2    2.1    7.3    2.4   0.48   30.66   10.08   2.016    4.41   1.008   \n",
       "\n",
       "   poly50  poly52  \n",
       "0   6.256   3.036  \n",
       "1   5.475   2.336  \n",
       "2   6.090   2.871  \n",
       "3   6.664   3.332  \n",
       "4   3.504   1.152  "
      ]
     },
     "execution_count": 311,
     "metadata": {},
     "output_type": "execute_result"
    }
   ],
   "source": [
    "# 組み込み法モデルを使用し特徴量選択を行う\n",
    "selector.fit(df_numeric_poly, y) # 学習\n",
    "mask = selector.get_support() # yに関係のある特徴量のみTrue\n",
    "df_numeric_poly_masked = df_numeric_poly.loc[:, mask] # 選択された特徴量のみのデータフレームを作成\n",
    "print(df_numeric_poly_masked.shape) # 12次元にまで減った\n",
    "df_numeric_poly_masked.head(5)\n",
    "# 下のようにtransformerで一発でもできるが，df型にしないといけない\n",
    "# X_selected = selector.transform(df_numeric_poly) # 特徴量選択を行う"
   ]
  },
  {
   "cell_type": "code",
   "execution_count": 313,
   "metadata": {},
   "outputs": [
    {
     "name": "stdout",
     "output_type": "stream",
     "text": [
      "0.8712250712250712\n"
     ]
    }
   ],
   "source": [
    "# この選択肢た特徴量を使用してモデルをもう一度学習させる\n",
    "X_train, X_test, y_train, y_test = train_test_split(df_numeric_poly_masked, y, test_size=0.3, random_state=42) # test_sizeでテストデータの割合を指定，random_stateで乱数のシードを指定\n",
    "lr = LogisticRegression() # モデルのインスタンス化\n",
    "lr.fit(X_train, y_train) # 学習\n",
    "y_pred_proba = lr.predict_proba(X_test) # 確率を出力\n",
    "y_pred_proba_1 = y_pred_proba[:, 1] # 1列目の確率を出力\n",
    "auc_score = roc_auc_score(y_true = y_test, y_score = y_pred_proba_1) # AUCを計算，y_scoreには疾患ありの確率を入力\n",
    "print(auc_score)\n",
    "# 精度が上がった"
   ]
  },
  {
   "cell_type": "code",
   "execution_count": 314,
   "metadata": {},
   "outputs": [
    {
     "data": {
      "text/plain": [
       "Text(0, 0.5, 'true positive rate')"
      ]
     },
     "execution_count": 314,
     "metadata": {},
     "output_type": "execute_result"
    },
    {
     "data": {
      "image/png": "[encoded data removed]",
      "text/plain": [
       "<Figure size 640x480 with 1 Axes>"
      ]
     },
     "metadata": {},
     "output_type": "display_data"
    }
   ],
   "source": [
    "# ROC曲線を描画\n",
    "fpr, tpr, thresholds = roc_curve(y_true = y_test, y_score = y_pred_proba_1) # fprは偽陽性率，tprは真陽性率，thresholdsは閾値\n",
    "plt.plot(fpr, tpr, label='ROC curve (area = %.2f)'%auc_score) # ROC曲線を描画\n",
    "plt.plot([0, 1], [0, 1], linestyle=':', label='random') # 第一引数がx軸，第二引数がy軸\n",
    "plt.plot([0, 0, 1], [0, 1, 1], linestyle=':', label='ideal') \n",
    "plt.legend()\n",
    "plt.xlabel('false positive rate')\n",
    "plt.ylabel('true positive rate')"
   ]
  },
  {
   "cell_type": "code",
   "execution_count": null,
   "metadata": {},
   "outputs": [],
   "source": []
  }
 ],
 "metadata": {
  "kernelspec": {
   "display_name": "Python 3",
   "language": "python",
   "name": "python3"
  },
  "language_info": {
   "codemirror_mode": {
    "name": "ipython",
    "version": 3
   },
   "file_extension": ".py",
   "mimetype": "text/x-python",
   "name": "python",
   "nbconvert_exporter": "python",
   "pygments_lexer": "ipython3",
   "version": "3.9.6"
  },
  "orig_nbformat": 4
 },
 "nbformat": 4,
 "nbformat_minor": 2
}
