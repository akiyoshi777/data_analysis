{
 "cells": [
  {
   "cell_type": "markdown",
   "metadata": {},
   "source": [
    "# ここではデータの基本についてまとめる"
   ]
  },
  {
   "cell_type": "markdown",
   "metadata": {},
   "source": [
    "データの種類：構造化データ(Excelなど)、メリットはデータ分析しやすい、デメリットは目的から逆算してデータが集められているため用途以外では使用できないことが多い<br>\n",
    "非構造化データ:構造に従っていないデータ(画像、pdf)、メリットは情報量が豊富でデメリットはデータの分析がしにくい<br>\n",
    "半構造化データ：事前に定めた構造に従っていないが規則性はあるデータ(犬猫などに分けて動物の写真をフォルダに振り分けた時、そのファイルは半構造化データ)<br>\n",
    "横持ちデータ：新たなデータを追加する時にに横に結合。メリットは人間が見やすいが機械的処理に向かない。<br>\n",
    "縦持ちデータ：縦に追加。見にくいが機械的処理がしやすい<br>"
   ]
  },
  {
   "cell_type": "markdown",
   "metadata": {},
   "source": [
    "データの前処理<br>\n",
    "学習時全データを数値に変換<br>\n",
    "ダミー変数：対応する文字列が出現したかどうかで０, 1で分ける方法\n",
    "その他に、ラベルエンコーディングなどがある。scikit-learnで学習ずみ"
   ]
  },
  {
   "cell_type": "code",
   "execution_count": null,
   "metadata": {},
   "outputs": [],
   "source": [
    "# データの前処理"
   ]
  }
 ],
 "metadata": {
  "kernelspec": {
   "display_name": "Python 3",
   "language": "python",
   "name": "python3"
  },
  "language_info": {
   "codemirror_mode": {
    "name": "ipython",
    "version": 3
   },
   "file_extension": ".py",
   "mimetype": "text/x-python",
   "name": "python",
   "nbconvert_exporter": "python",
   "pygments_lexer": "ipython3",
   "version": "3.9.6"
  },
  "orig_nbformat": 4
 },
 "nbformat": 4,
 "nbformat_minor": 2
}
