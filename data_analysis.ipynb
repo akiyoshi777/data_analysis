{
 "cells": [
  {
   "cell_type": "markdown",
   "metadata": {},
   "source": [
    "ここではデータ分析の目的や，実際の課題についてまとめる"
   ]
  },
  {
   "cell_type": "markdown",
   "metadata": {},
   "source": [
    "データ分析とは<br>\n",
    "データから意思決定をするための情報(根拠)を作成すること<br>\n",
    "会社視点では目的がある．その目的を達成するために意思決定する．ただ経験や勘だけでの意思決定は危険．そこでその根拠をデータを用いデータ分析を行うことで入手する．そのため目的や課題などの理解は最も大事．<br>\n",
    "よくある間違いとして様々な種類のデータを集めることだけするというものである．何事も目的からの逆算が大事．"
   ]
  },
  {
   "cell_type": "markdown",
   "metadata": {},
   "source": [
    "データ分析のプロセス<br>\n",
    "1. 課題の整理，分析計画(最も大事)<br>\n",
    "課題を発見→原因の仮説を立てる→分析軸を設定<br>\n",
    "分析軸(4種類)<br>\n",
    "1.現状を定量的に把握<br>\n",
    "2.関係性を定量的に把握<br>\n",
    "3.将来を予測<br>\n",
    "4.最適解を得る<br>\n",
    "\n",
    "2. データの収集\n",
    "3. データの整理（前処理）\n",
    "4. 分析実行\n",
    "5. 試作・提案"
   ]
  },
  {
   "cell_type": "markdown",
   "metadata": {},
   "source": []
  },
  {
   "cell_type": "code",
   "execution_count": null,
   "metadata": {},
   "outputs": [],
   "source": []
  },
  {
   "cell_type": "markdown",
   "metadata": {},
   "source": [
    "データの種類：構造化データ(Excelなど)、メリットはデータ分析しやすい、デメリットは目的から逆算してデータが集められているため用途以外では使用できないことが多い<br>\n",
    "非構造化データ:構造に従っていないデータ(画像、pdf)、メリットは情報量が豊富でデメリットはデータの分析がしにくい<br>\n",
    "半構造化データ：事前に定めた構造に従っていないが規則性はあるデータ(犬猫などに分けて動物の写真をフォルダに振り分けた時、そのファイルは半構造化データ)<br>\n",
    "横持ちデータ：新たなデータを追加する時にに横に結合。メリットは人間が見やすいが機械的処理に向かない。<br>\n",
    "縦持ちデータ：縦に追加。見にくいが機械的処理がしやすい<br>"
   ]
  },
  {
   "cell_type": "markdown",
   "metadata": {},
   "source": [
    "データの前処理<br>\n",
    "学習時全データを数値に変換<br>\n",
    "ダミー変数：対応する文字列が出現したかどうかで０, 1で分ける方法\n",
    "その他に、ラベルエンコーディングなどがある。scikit-learnで学習ずみ"
   ]
  },
  {
   "cell_type": "code",
   "execution_count": null,
   "metadata": {},
   "outputs": [],
   "source": [
    "# データの前処理"
   ]
  }
 ],
 "metadata": {
  "kernelspec": {
   "display_name": "Python 3",
   "language": "python",
   "name": "python3"
  },
  "language_info": {
   "codemirror_mode": {
    "name": "ipython",
    "version": 3
   },
   "file_extension": ".py",
   "mimetype": "text/x-python",
   "name": "python",
   "nbconvert_exporter": "python",
   "pygments_lexer": "ipython3",
   "version": "3.10.12"
  },
  "orig_nbformat": 4
 },
 "nbformat": 4,
 "nbformat_minor": 2
}
